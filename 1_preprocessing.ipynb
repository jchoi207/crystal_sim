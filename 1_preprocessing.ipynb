{
 "cells": [
  {
   "cell_type": "markdown",
   "metadata": {},
   "source": [
    "### Imports"
   ]
  },
  {
   "cell_type": "code",
   "execution_count": 1,
   "metadata": {},
   "outputs": [
    {
     "name": "stderr",
     "output_type": "stream",
     "text": [
      "/opt/miniconda3/envs/crystal_sim/lib/python3.11/site-packages/tqdm/auto.py:21: TqdmWarning: IProgress not found. Please update jupyter and ipywidgets. See https://ipywidgets.readthedocs.io/en/stable/user_install.html\n",
      "  from .autonotebook import tqdm as notebook_tqdm\n"
     ]
    }
   ],
   "source": [
    "import os\n",
    "import numpy as np\n",
    "import preprocessing as pp\n",
    "from joblib import dump, load\n",
    "import time"
   ]
  },
  {
   "cell_type": "markdown",
   "metadata": {},
   "source": [
    "## Preprocessing from .txt file\n",
    "- If you would like to use a .txt file with specific mp-ids, you can use the following code to preprocess the data.\n"
   ]
  },
  {
   "cell_type": "code",
   "execution_count": 2,
   "metadata": {},
   "outputs": [],
   "source": [
    "key = 'MKc7ImqWWraesSOgZw5qy1pwY5pi3Djr'\n",
    "upper = 2\n",
    "local_filename = 'test.txt'\n",
    "path = '/Users/jonathanchoi/Desktop/GitHub Projects/crystal_sim/raw_data'\n",
    "directions = pp.get_cartesian_beam_directions(upper)\n",
    "directions = np.delete(directions, 3, axis=0)"
   ]
  },
  {
   "cell_type": "code",
   "execution_count": 5,
   "metadata": {},
   "outputs": [],
   "source": [
    "filename = os.path.join(path, local_filename) \n",
    "\n",
    "directions = pp.get_cartesian_beam_directions(upper)\n",
    "directions = np.delete(directions, 3, axis=0)\n",
    "        \n",
    "features,labels_regression, labels_classification_space,labels_classification_bravais,labels_classification_system, material_id_list = pp.get_preprocessed_data(pp.get_crystals_from_file(filename=filename, api_key=key), directions, plot=False, vectors=True)"
   ]
  },
  {
   "cell_type": "markdown",
   "metadata": {},
   "source": [
    "#### Sanity Check"
   ]
  },
  {
   "cell_type": "markdown",
   "metadata": {},
   "source": [
    "#### Dump and save data for training and future use"
   ]
  },
  {
   "cell_type": "code",
   "execution_count": 4,
   "metadata": {},
   "outputs": [],
   "source": [
    "my_return_tuple = (features,labels_regression, labels_classification_space,labels_classification_bravais,labels_classification_system, material_id_list)"
   ]
  },
  {
   "cell_type": "code",
   "execution_count": 5,
   "metadata": {},
   "outputs": [
    {
     "name": "stdout",
     "output_type": "stream",
     "text": [
      ">> Printing the first element from each array\n",
      "\n",
      "[[3.563, 2.52, 5.039, 3.563, 2.52, 0.785, 0.0, 0.786, 0.785, 3.563, 4.364, 2.52, 5.039, 4.364, 0.616, 0.955, 0.0, 0.955, 3.563, 2.52, 5.039, 3.563, 2.52, 0.785, 0.0, 0.786, 0.785, 3.563, 4.364, 2.52, 5.039, 4.364, 0.616, 0.955, 0.0, 0.955, 3.563, 4.364, 2.52, 5.039, 4.364, 0.616, 0.955, 0.0, 0.955, 3.563, 2.52, 5.039, 3.563, 2.52, 0.785, 0.0, 0.786, 0.785], [3.571, 2.526, 3.571, 2.526, 5.05, 0.785, 0.786, 0.785, 0.0, 3.571, 4.374, 2.525, 5.05, 4.374, 0.615, 0.956, 0.0, 0.955, 3.571, 2.526, 3.571, 2.526, 3.571, 0.785, 0.786, 0.785, 0.786, 3.571, 4.374, 2.525, 5.05, 4.374, 0.615, 0.956, 0.0, 0.955, 3.571, 4.374, 2.525, 5.05, 4.374, 0.615, 0.956, 0.0, 0.955, 3.571, 2.526, 3.571, 2.526, 3.571, 0.785, 0.786, 0.785, 0.786]]\n",
      "[[5.3, 5.3, 5.3, 60.0, 60.0, 60.0], [5.29, 5.29, 5.29, 60.0, 60.0, 60.0]]\n",
      "[225, 225]\n",
      "['F', 'F']\n",
      "['Cubic', 'Cubic']\n",
      "[(MPID(mp-866016), 'AcBiAu2'), (MPID(mp-866107), 'Ac2IrPd')]\n",
      ">> Would you like to save your data? [y]/[n]\n",
      ">> No files saved. \n",
      ">> Interrupting preprocessing.\n"
     ]
    }
   ],
   "source": [
    "path = pp.save_data(get_preprocessed_returns= my_return_tuple, base_dir = \"/Users/jonathanchoi/Desktop/GitHub Projects/crystal_sim\", new_dir= \"test_1\")"
   ]
  },
  {
   "cell_type": "code",
   "execution_count": 6,
   "metadata": {},
   "outputs": [
    {
     "ename": "TypeError",
     "evalue": "expected str, bytes or os.PathLike object, not NoneType",
     "output_type": "error",
     "traceback": [
      "\u001b[0;31m---------------------------------------------------------------------------\u001b[0m",
      "\u001b[0;31mTypeError\u001b[0m                                 Traceback (most recent call last)",
      "Cell \u001b[0;32mIn[6], line 1\u001b[0m\n\u001b[0;32m----> 1\u001b[0m my_loaded_data \u001b[38;5;241m=\u001b[39m \u001b[43mpp\u001b[49m\u001b[38;5;241;43m.\u001b[39;49m\u001b[43mload_data\u001b[49m\u001b[43m(\u001b[49m\u001b[43mpath\u001b[49m\u001b[43m)\u001b[49m\n",
      "File \u001b[0;32m~/Desktop/GitHub Projects/crystal_sim/preprocessing.py:543\u001b[0m, in \u001b[0;36mload_data\u001b[0;34m(filenames_path)\u001b[0m\n\u001b[1;32m    532\u001b[0m \u001b[38;5;28;01mdef\u001b[39;00m \u001b[38;5;21mload_data\u001b[39m(filenames_path) \u001b[38;5;241m-\u001b[39m\u001b[38;5;241m>\u001b[39m \u001b[38;5;28mlist\u001b[39m:\n\u001b[1;32m    533\u001b[0m \u001b[38;5;250m    \u001b[39m\u001b[38;5;124;03m\"\"\"\u001b[39;00m\n\u001b[1;32m    534\u001b[0m \u001b[38;5;124;03m    Loads the data that was saved using the save_data() function.\u001b[39;00m\n\u001b[1;32m    535\u001b[0m \n\u001b[0;32m   (...)\u001b[0m\n\u001b[1;32m    540\u001b[0m \u001b[38;5;124;03m        list: List containing all the loaded information.\u001b[39;00m\n\u001b[1;32m    541\u001b[0m \u001b[38;5;124;03m    \"\"\"\u001b[39;00m\n\u001b[0;32m--> 543\u001b[0m     get_file_names \u001b[38;5;241m=\u001b[39m \u001b[43mload\u001b[49m\u001b[43m(\u001b[49m\u001b[43mfilenames_path\u001b[49m\u001b[43m)\u001b[49m\n\u001b[1;32m    544\u001b[0m     data_list \u001b[38;5;241m=\u001b[39m []\n\u001b[1;32m    546\u001b[0m     \u001b[38;5;28;01mfor\u001b[39;00m filename \u001b[38;5;129;01min\u001b[39;00m get_file_names:\n",
      "File \u001b[0;32m/opt/miniconda3/envs/crystal_sim/lib/python3.11/site-packages/joblib/numpy_pickle.py:650\u001b[0m, in \u001b[0;36mload\u001b[0;34m(filename, mmap_mode)\u001b[0m\n\u001b[1;32m    648\u001b[0m         obj \u001b[38;5;241m=\u001b[39m _unpickle(fobj)\n\u001b[1;32m    649\u001b[0m \u001b[38;5;28;01melse\u001b[39;00m:\n\u001b[0;32m--> 650\u001b[0m     \u001b[38;5;28;01mwith\u001b[39;00m \u001b[38;5;28;43mopen\u001b[39;49m\u001b[43m(\u001b[49m\u001b[43mfilename\u001b[49m\u001b[43m,\u001b[49m\u001b[43m \u001b[49m\u001b[38;5;124;43m'\u001b[39;49m\u001b[38;5;124;43mrb\u001b[39;49m\u001b[38;5;124;43m'\u001b[39;49m\u001b[43m)\u001b[49m \u001b[38;5;28;01mas\u001b[39;00m f:\n\u001b[1;32m    651\u001b[0m         \u001b[38;5;28;01mwith\u001b[39;00m _read_fileobject(f, filename, mmap_mode) \u001b[38;5;28;01mas\u001b[39;00m fobj:\n\u001b[1;32m    652\u001b[0m             \u001b[38;5;28;01mif\u001b[39;00m \u001b[38;5;28misinstance\u001b[39m(fobj, \u001b[38;5;28mstr\u001b[39m):\n\u001b[1;32m    653\u001b[0m                 \u001b[38;5;66;03m# if the returned file object is a string, this means we\u001b[39;00m\n\u001b[1;32m    654\u001b[0m                 \u001b[38;5;66;03m# try to load a pickle file generated with an version of\u001b[39;00m\n\u001b[1;32m    655\u001b[0m                 \u001b[38;5;66;03m# Joblib so we load it with joblib compatibility function.\u001b[39;00m\n",
      "\u001b[0;31mTypeError\u001b[0m: expected str, bytes or os.PathLike object, not NoneType"
     ]
    }
   ],
   "source": [
    "my_loaded_data = pp.load_data(path)"
   ]
  },
  {
   "cell_type": "markdown",
   "metadata": {},
   "source": [
    "## Preprocessing by Crystal System\n",
    "- If you don't have a .txt file, but want to find data based on crystal system, you can use the following code to preprocess the data.\n",
    "- You can choose from the following 7 systems:\n",
    "```\n",
    "        1. 'Triclinic'\n",
    "        2. 'Monoclinic'\n",
    "        3. 'Orthorhombic'\n",
    "        4. 'Tetragonal'\n",
    "        5. 'Trigonal'\n",
    "        6. 'Hexagonal'\n",
    "        7. 'Cubic'\n",
    "\n",
    "```"
   ]
  },
  {
   "cell_type": "code",
   "execution_count": 2,
   "metadata": {},
   "outputs": [],
   "source": [
    "key = 'MKc7ImqWWraesSOgZw5qy1pwY5pi3Djr'\n",
    "upper = 2\n",
    "path = '/Users/jonathanchoi/Desktop/GitHub Projects/crystal_sim/raw_data'"
   ]
  },
  {
   "cell_type": "code",
   "execution_count": 3,
   "metadata": {},
   "outputs": [
    {
     "name": "stderr",
     "output_type": "stream",
     "text": [
      "Retrieving MaterialsDoc documents: 100%|██████████| 260/260 [00:00<00:00, 2739997.59it/s]\n"
     ]
    },
    {
     "name": "stdout",
     "output_type": "stream",
     "text": [
      "_________________Summary:Cubic System_________________\n",
      "\n",
      "P: Primitive\n",
      "I: Body Centered\n",
      "F: Centered on A\n",
      ">> P: number of datapoints - 100\n",
      ">> I: number of datapoints - 128\n",
      ">> F: number of datapoints - 32\n",
      "[100, 128, 32]\n",
      "\n",
      ">> Smallest number of sample points: 32\n",
      "\n",
      ">> Total number of samples: 260\n",
      "\n"
     ]
    },
    {
     "name": "stderr",
     "output_type": "stream",
     "text": [
      "Retrieving MaterialsDoc documents: 100%|██████████| 20/20 [00:00<00:00, 415277.62it/s]\n",
      "Retrieving MaterialsDoc documents: 100%|██████████| 20/20 [00:00<00:00, 806596.92it/s]\n",
      "Retrieving MaterialsDoc documents: 100%|██████████| 20/20 [00:00<00:00, 626015.52it/s]\n"
     ]
    },
    {
     "ename": "NameError",
     "evalue": "name 'directions' is not defined",
     "output_type": "error",
     "traceback": [
      "\u001b[0;31m---------------------------------------------------------------------------\u001b[0m",
      "\u001b[0;31mNameError\u001b[0m                                 Traceback (most recent call last)",
      "Cell \u001b[0;32mIn[3], line 3\u001b[0m\n\u001b[1;32m      1\u001b[0m bra_dict, min_size, api_key \u001b[38;5;241m=\u001b[39m pp\u001b[38;5;241m.\u001b[39mretrieve_crystals_from_api(api_key\u001b[38;5;241m=\u001b[39mkey, crystal_system\u001b[38;5;241m=\u001b[39m\u001b[38;5;124m'\u001b[39m\u001b[38;5;124mCubic\u001b[39m\u001b[38;5;124m'\u001b[39m, base_dir\u001b[38;5;241m=\u001b[39mpath, write\u001b[38;5;241m=\u001b[39m\u001b[38;5;28;01mFalse\u001b[39;00m)\n\u001b[1;32m      2\u001b[0m \u001b[38;5;28mtuple\u001b[39m \u001b[38;5;241m=\u001b[39m pp\u001b[38;5;241m.\u001b[39mget_crystal_info(bravais_dict\u001b[38;5;241m=\u001b[39mbra_dict, min_size\u001b[38;5;241m=\u001b[39m\u001b[38;5;241m20\u001b[39m, api_key\u001b[38;5;241m=\u001b[39mapi_key)\n\u001b[0;32m----> 3\u001b[0m features,labels_regression,labels_classification_space,labels_classification_bravais,labels_classification_system,material_id_list \u001b[38;5;241m=\u001b[39m pp\u001b[38;5;241m.\u001b[39mget_preprocessed_data(\u001b[38;5;28mtuple\u001b[39m, \u001b[43mdirections\u001b[49m, plot\u001b[38;5;241m=\u001b[39m\u001b[38;5;28;01mFalse\u001b[39;00m, vectors\u001b[38;5;241m=\u001b[39m\u001b[38;5;28;01mTrue\u001b[39;00m)\n",
      "\u001b[0;31mNameError\u001b[0m: name 'directions' is not defined"
     ]
    }
   ],
   "source": [
    "bra_dict, min_size, api_key = pp.retrieve_crystals_from_api(api_key=key, crystal_system='Cubic', base_dir=path, write=False)\n",
    "tuple = pp.get_crystal_info(bravais_dict=bra_dict, min_size=20, api_key=api_key)\n"
   ]
  },
  {
   "cell_type": "code",
   "execution_count": 6,
   "metadata": {},
   "outputs": [
    {
     "name": "stdout",
     "output_type": "stream",
     "text": [
      "_________________0% complete_________________\n",
      ">> Time elapsed: 0.001 s\n",
      ">> Time diff: 0.001 s\n",
      ">> 0: (MPID(mp-1187425), 'ThSiO3') \n",
      "_________________41% complete_________________\n",
      ">> Time elapsed: 21.15 s\n",
      ">> Time diff: 21.149 s\n",
      ">> 25: (MPID(mp-1143551), 'Si3(WO6)2') \n",
      "_________________83% complete_________________\n",
      ">> Time elapsed: 56.934 s\n",
      ">> Time diff: 35.784 s\n",
      ">> 50: (MPID(mp-1208867), 'Si2O') \n",
      "___________________________________\n",
      ">> Time elapsed: 78.845 s\n",
      ">> 100% complete\n",
      "______________________________________________________________________\n"
     ]
    }
   ],
   "source": [
    "features,labels_regression,labels_classification_space,labels_classification_bravais,labels_classification_system,material_id_list = pp.get_preprocessed_data(tuple, directions, plot=False, vectors=True)"
   ]
  },
  {
   "cell_type": "code",
   "execution_count": 8,
   "metadata": {},
   "outputs": [
    {
     "name": "stdout",
     "output_type": "stream",
     "text": [
      ">> Printing the first element from each array\n",
      "\n",
      "[[3.44, 2.432, 4.865, 3.44, 2.432, 0.785, 0.0, 0.786, 0.785, 3.44, 2.98, 2.433, 4.865, 2.98, 0.955, 0.616, 0.0, 0.615, 3.44, 2.432, 4.865, 3.44, 2.432, 0.785, 0.0, 0.786, 0.785, 3.44, 2.98, 2.433, 4.865, 2.98, 0.955, 0.616, 0.0, 0.615, 3.44, 2.98, 2.433, 4.865, 2.98, 0.955, 0.616, 0.0, 0.615, 3.44, 2.432, 4.865, 3.44, 2.432, 0.785, 0.0, 0.786, 0.785], [3.52, 2.489, 4.978, 3.52, 2.489, 0.785, 0.0, 0.786, 0.785, 3.52, 3.048, 2.489, 4.979, 3.048, 0.955, 0.616, 0.0, 0.615, 3.52, 2.489, 4.978, 3.52, 2.489, 0.785, 0.0, 0.786, 0.785, 3.52, 3.048, 2.489, 4.979, 3.048, 0.955, 0.616, 0.0, 0.615, 3.52, 3.048, 2.489, 4.979, 3.048, 0.955, 0.616, 0.0, 0.615, 3.52, 2.489, 4.978, 3.52, 2.489, 0.785, 0.0, 0.786, 0.785], [4.683, 3.311, 4.415, 4.683, 3.311, 0.785, 0.0, 0.786, 0.785, 4.683, 3.311, 1.912, 1.912, 3.311, 0.34, 0.276, 1.91, 0.276, 4.683, 3.311, 4.415, 4.683, 3.311, 0.785, 0.0, 0.786, 0.785, 4.683, 3.311, 1.912, 1.912, 3.311, 0.34, 0.276, 1.91, 0.276, 4.683, 3.311, 1.912, 1.912, 3.311, 0.34, 0.276, 1.91, 0.276, 4.683, 3.311, 4.415, 4.683, 3.311, 0.785, 0.0, 0.786, 0.785]]\n",
      "[[3.88, 3.88, 3.88, 90.0, 90.0, 90.0], [3.8, 3.8, 3.8, 90.0, 90.0, 90.0], [8.56, 8.56, 8.56, 90.0, 90.0, 90.0]]\n",
      "[221, 221, 218]\n",
      "['P', 'P', 'P']\n",
      "['Cubic', 'Cubic', 'Cubic']\n",
      "[(MPID(mp-1187425), 'ThSiO3'), (MPID(mp-1187767), 'USiO3'), (MPID(mp-17493), 'Be3Cd4Si3SO12')]\n",
      ">> Would you like to save your data? [y]/[n]\n",
      ">> No files saved. \n",
      ">> Interrupting preprocessing.\n"
     ]
    }
   ],
   "source": [
    "my_return_tuple_2 = features,labels_regression,labels_classification_space,labels_classification_bravais,labels_classification_system,material_id_list\n",
    "pp.save_data(my_return_tuple_2, base_dir=path, new_dir=\"test_1\")"
   ]
  },
  {
   "cell_type": "code",
   "execution_count": 12,
   "metadata": {},
   "outputs": [
    {
     "name": "stdout",
     "output_type": "stream",
     "text": [
      ">> Printing the first element from each array\n",
      "\n",
      "[[3.44, 2.432, 4.865, 3.44, 2.432, 0.785, 0.0, 0.786, 0.785, 3.44, 2.98, 2.433, 4.865, 2.98, 0.955, 0.616, 0.0, 0.615, 3.44, 2.432, 4.865, 3.44, 2.432, 0.785, 0.0, 0.786, 0.785, 3.44, 2.98, 2.433, 4.865, 2.98, 0.955, 0.616, 0.0, 0.615, 3.44, 2.98, 2.433, 4.865, 2.98, 0.955, 0.616, 0.0, 0.615, 3.44, 2.432, 4.865, 3.44, 2.432, 0.785, 0.0, 0.786, 0.785], [3.52, 2.489, 4.978, 3.52, 2.489, 0.785, 0.0, 0.786, 0.785, 3.52, 3.048, 2.489, 4.979, 3.048, 0.955, 0.616, 0.0, 0.615, 3.52, 2.489, 4.978, 3.52, 2.489, 0.785, 0.0, 0.786, 0.785, 3.52, 3.048, 2.489, 4.979, 3.048, 0.955, 0.616, 0.0, 0.615, 3.52, 3.048, 2.489, 4.979, 3.048, 0.955, 0.616, 0.0, 0.615, 3.52, 2.489, 4.978, 3.52, 2.489, 0.785, 0.0, 0.786, 0.785], [4.683, 3.311, 4.415, 4.683, 3.311, 0.785, 0.0, 0.786, 0.785, 4.683, 3.311, 1.912, 1.912, 3.311, 0.34, 0.276, 1.91, 0.276, 4.683, 3.311, 4.415, 4.683, 3.311, 0.785, 0.0, 0.786, 0.785, 4.683, 3.311, 1.912, 1.912, 3.311, 0.34, 0.276, 1.91, 0.276, 4.683, 3.311, 1.912, 1.912, 3.311, 0.34, 0.276, 1.91, 0.276, 4.683, 3.311, 4.415, 4.683, 3.311, 0.785, 0.0, 0.786, 0.785]]\n",
      "[[3.88, 3.88, 3.88, 90.0, 90.0, 90.0], [3.8, 3.8, 3.8, 90.0, 90.0, 90.0], [8.56, 8.56, 8.56, 90.0, 90.0, 90.0]]\n",
      "[221, 221, 218]\n",
      "['P', 'P', 'P']\n",
      "['Cubic', 'Cubic', 'Cubic']\n",
      "[(MPID(mp-1187425), 'ThSiO3'), (MPID(mp-1187767), 'USiO3'), (MPID(mp-17493), 'Be3Cd4Si3SO12')]\n",
      ">> Would you like to save your data? [y]/[n]\n",
      ">> All files saved to: /Users/jonathanchoi/Desktop/GitHub Projects/crystal_sim/test_1_key_path\n"
     ]
    },
    {
     "data": {
      "text/plain": [
       "'/Users/jonathanchoi/Desktop/GitHub Projects/crystal_sim/test_1_key_path'"
      ]
     },
     "execution_count": 12,
     "metadata": {},
     "output_type": "execute_result"
    }
   ],
   "source": [
    "pp.save_data(my_return_tuple_2, base_dir= \"/Users/jonathanchoi/Desktop/GitHub Projects/crystal_sim\", new_dir=\"test_1\")"
   ]
  },
  {
   "cell_type": "code",
   "execution_count": 9,
   "metadata": {},
   "outputs": [
    {
     "name": "stderr",
     "output_type": "stream",
     "text": [
      "Retrieving MaterialsDoc documents: 100%|██████████| 260/260 [00:00<00:00, 5535629.64it/s]\n"
     ]
    },
    {
     "name": "stdout",
     "output_type": "stream",
     "text": [
      "_________________Summary:Cubic System_________________\n",
      "\n",
      "P: Primitive\n",
      "I: Body Centered\n",
      "F: Centered on A\n",
      ">> P: number of datapoints - 100\n",
      ">> I: number of datapoints - 128\n",
      ">> F: number of datapoints - 32\n",
      "\n",
      ">> Total number of samples: 260\n",
      "\n",
      "\n",
      ">> Smallest number of sample points: 32\n",
      ">> Overwriting least number of available sample points from 32 to 30\n"
     ]
    },
    {
     "name": "stderr",
     "output_type": "stream",
     "text": [
      "Retrieving MaterialsDoc documents: 100%|██████████| 30/30 [00:00<00:00, 626015.52it/s]\n",
      "Retrieving MaterialsDoc documents: 100%|██████████| 30/30 [00:00<00:00, 967916.31it/s]\n",
      "Retrieving MaterialsDoc documents: 100%|██████████| 30/30 [00:00<00:00, 1187067.17it/s]\n"
     ]
    },
    {
     "name": "stdout",
     "output_type": "stream",
     "text": [
      ">> Samples per bravais lattice type: 30\n",
      ">> Total samples: 90\n",
      "_________________0% complete_________________\n",
      ">> Time elapsed: 0.002 s\n",
      ">> Time diff: 0.002 s\n",
      ">> 0: (MPID(mp-1019788), 'K4Al3(SiO4)3') \n",
      "_________________27% complete_________________\n",
      ">> Time elapsed: 16.407 s\n",
      ">> Time diff: 16.405 s\n",
      ">> 25: (MPID(mp-555342), 'Na2CaSiO4') \n",
      "_________________55% complete_________________\n",
      ">> Time elapsed: 47.728 s\n",
      ">> Time diff: 31.321 s\n",
      ">> 50: (MPID(mp-14052), 'Ca3In2(SiO4)3') \n",
      "_________________83% complete_________________\n",
      ">> Time elapsed: 81.34 s\n",
      ">> Time diff: 33.611 s\n",
      ">> 75: (MPID(mp-1210055), 'NaAlSiO5') \n",
      "___________________________________\n",
      ">> Time elapsed: 105.688 s\n",
      ">> 100% complete\n",
      "______________________________________________________________________\n",
      ">> Printing the first element from each array\n",
      "\n",
      "[[4.283, 2.257, 3.028, 4.283, 3.028, 0.322, 0.463, 0.786, 0.785, 4.283, 1.749, 2.473, 2.473, 1.749, 0.615, 0.34, 1.231, 0.34, 4.283, 2.257, 3.028, 4.283, 3.028, 0.322, 0.463, 0.786, 0.785, 4.283, 1.749, 2.473, 2.473, 1.749, 0.615, 0.34, 1.231, 0.34, 4.283, 1.749, 2.473, 2.473, 1.749, 0.615, 0.34, 1.231, 0.34, 4.283, 2.257, 3.028, 4.283, 3.028, 0.322, 0.463, 0.786, 0.785], [3.44, 2.432, 4.865, 3.44, 2.432, 0.785, 0.0, 0.786, 0.785, 3.44, 2.98, 2.433, 4.865, 2.98, 0.955, 0.616, 0.0, 0.615, 3.44, 2.432, 4.865, 3.44, 2.432, 0.785, 0.0, 0.786, 0.785, 3.44, 2.98, 2.433, 4.865, 2.98, 0.955, 0.616, 0.0, 0.615, 3.44, 2.98, 2.433, 4.865, 2.98, 0.955, 0.616, 0.0, 0.615, 3.44, 2.432, 4.865, 3.44, 2.432, 0.785, 0.0, 0.786, 0.785], [6.663, 4.997, 4.712, 6.663, 4.997, 0.0, 0.785, 0.786, 0.0, 2.04, 2.886, 4.712, 2.886, 2.04, 0.34, 0.616, 0.615, 0.34, 6.663, 4.997, 4.712, 6.663, 4.997, 0.0, 0.785, 0.786, 0.0, 2.04, 2.886, 4.712, 2.886, 2.04, 0.34, 0.616, 0.615, 0.34, 2.04, 2.886, 4.712, 2.886, 2.04, 0.34, 0.616, 0.615, 0.34, 6.663, 4.712, 6.663, 4.712, 6.663, 0.785, 0.786, 0.785, 0.786]]\n",
      "[[9.36, 9.36, 9.36, 90.0, 90.0, 90.0], [3.88, 3.88, 3.88, 90.0, 90.0, 90.0], [8.02, 8.02, 8.02, 90.0, 90.0, 90.0]]\n",
      "[218, 221, 218]\n",
      "['P', 'P', 'P']\n",
      "['Cubic', 'Cubic', 'Cubic']\n",
      "[(MPID(mp-1019788), 'K4Al3(SiO4)3'), (MPID(mp-1187425), 'ThSiO3'), (MPID(mp-1214189), 'Be3Si3C4SO12')]\n",
      ">> Would you like to save your data? [y]/[n]\n",
      ">> All files saved to: /Users/jonathanchoi/Desktop/GitHub Projects/crystal_sim/test_3_key_path\n",
      ">> Time to preprocess: 116.85 s\n"
     ]
    },
    {
     "data": {
      "text/plain": [
       "'/Users/jonathanchoi/Desktop/GitHub Projects/crystal_sim/test_3_key_path'"
      ]
     },
     "execution_count": 9,
     "metadata": {},
     "output_type": "execute_result"
    }
   ],
   "source": [
    "key = 'MKc7ImqWWraesSOgZw5qy1pwY5pi3Djr'\n",
    "upper = 2\n",
    "relative_path = 'raw_data/test.txt'\n",
    "base_dir = '/Users/jonathanchoi/Desktop/GitHub Projects/crystal_sim/'\n",
    "directions = pp.get_cartesian_beam_directions(upper)\n",
    "directions = np.delete(directions, 3, axis=0)\n",
    "\n",
    "\n",
    "# test for from txt_filename\n",
    "preprocessing(directions, key, \"Cubic\", base_dir, \"test_3\")"
   ]
  },
  {
   "cell_type": "code",
   "execution_count": 8,
   "metadata": {},
   "outputs": [],
   "source": [
    "def preprocessing(directions: list, api_key: str, crystal_system: str, base_dir: str, folder_dir: str, txt_filename: str = None):\n",
    "    start = time.time()\n",
    "    if txt_filename:\n",
    "        filename = os.path.join(base_dir, txt_filename)\n",
    "\n",
    "        preproc = pp.save_data(\n",
    "                    pp.get_preprocessed_data(\n",
    "                        pp.get_crystals_from_file(\n",
    "                            filename=filename,\n",
    "                            api_key=api_key\n",
    "                            ),\n",
    "                        directions,\n",
    "                        plot=False,\n",
    "                        vectors=True\n",
    "                        ),\n",
    "                    base_dir=base_dir,\n",
    "                    new_dir=folder_dir\n",
    "                    )\n",
    "        print(f\">> Time to preprocess: {round(time.time() - start, 2)} s\")\n",
    "        return preproc\n",
    "    else:\n",
    "        preproc = pp.save_data(\n",
    "                    pp.get_preprocessed_data(\n",
    "                        pp.get_crystal_info(\n",
    "                            pp.retrieve_crystals_from_api(\n",
    "                                api_key=key, \n",
    "                                crystal_system=crystal_system, \n",
    "                                base_dir=base_dir,\n",
    "                                write=False,\n",
    "                                min_size=30\n",
    "                                ),\n",
    "                            ), \n",
    "                        directions,\n",
    "                        plot=False,\n",
    "                        vectors=True\n",
    "                        ),\n",
    "                    base_dir=base_dir, \n",
    "                    new_dir=folder_dir\n",
    "                    )\n",
    "        \n",
    "        print(f\">> Time to preprocess: {round(time.time() - start, 2)} s\")\n",
    "        return preproc\n"
   ]
  }
 ],
 "metadata": {
  "kernelspec": {
   "display_name": "finance",
   "language": "python",
   "name": "python3"
  },
  "language_info": {
   "codemirror_mode": {
    "name": "ipython",
    "version": 3
   },
   "file_extension": ".py",
   "mimetype": "text/x-python",
   "name": "python",
   "nbconvert_exporter": "python",
   "pygments_lexer": "ipython3",
   "version": "3.11.9"
  }
 },
 "nbformat": 4,
 "nbformat_minor": 2
}
