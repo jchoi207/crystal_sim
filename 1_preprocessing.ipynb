{
 "cells": [
  {
   "cell_type": "markdown",
   "metadata": {},
   "source": [
    "### Imports"
   ]
  },
  {
   "cell_type": "code",
   "execution_count": 6,
   "metadata": {},
   "outputs": [
    {
     "data": {
      "application/vnd.jupyter.widget-view+json": {
       "model_id": "a80191dc0f814a9ca8917e20fd3dbaf4",
       "version_major": 2,
       "version_minor": 0
      },
      "text/plain": [
       "Retrieving MaterialsDoc documents:   0%|          | 0/9119 [00:00<?, ?it/s]"
      ]
     },
     "metadata": {},
     "output_type": "display_data"
    },
    {
     "name": "stdout",
     "output_type": "stream",
     "text": [
      "_________________Summary:_________________\n",
      "\n",
      ">> F Centered on A: number of crystals - 9119\n",
      ">> Total number of crystals: 9119\n",
      "\n",
      ">> Smallest number of crystals: 9119\n",
      ">> Overwriting the smallest number of available sample points from 9119 to 3000\n",
      ">> 3000 crystals will be processed\n",
      "\n"
     ]
    },
    {
     "data": {
      "application/vnd.jupyter.widget-view+json": {
       "model_id": "5ba5db6a5cd7447cbc02f8149045bfcc",
       "version_major": 2,
       "version_minor": 0
      },
      "text/plain": [
       "Retrieving MaterialsDoc documents:   0%|          | 0/3000 [00:00<?, ?it/s]"
      ]
     },
     "metadata": {},
     "output_type": "display_data"
    },
    {
     "name": "stdout",
     "output_type": "stream",
     "text": [
      "_________________0% complete_________________\n",
      ">> Crystal No.0: (MPID(mp-1038831), 'Mg3Bi') \n",
      ">> Time elapsed: 0.001 s\n",
      ">> Time diff: 0.001 s\n",
      "_________________10% complete_________________\n",
      ">> Crystal No.300: (MPID(mp-1008224), 'CrCo2Si') \n",
      ">> Time elapsed: 246.544 s\n",
      ">> Time diff: 246.543 s\n",
      "_________________20% complete_________________\n",
      ">> Crystal No.600: (MPID(mp-1002187), 'TcB') \n",
      ">> Time elapsed: 495.931 s\n",
      ">> Time diff: 249.386 s\n",
      "_________________30% complete_________________\n",
      ">> Crystal No.900: (MPID(mp-1009217), 'MnSb') \n",
      ">> Time elapsed: 741.894 s\n",
      ">> Time diff: 245.963 s\n",
      "_________________40% complete_________________\n",
      ">> Crystal No.1200: (MPID(mp-977544), 'Hf2ReNi') \n",
      ">> Time elapsed: 1422.214 s\n",
      ">> Time diff: 680.32 s\n"
     ]
    },
    {
     "name": "stderr",
     "output_type": "stream",
     "text": [
      "/opt/miniconda3/envs/crystal_sim/lib/python3.11/site-packages/pymatgen/core/periodic_table.py:142: UserWarning: No Pauling electronegativity for Ar. Setting to NaN. This has no physical meaning, and is mainly done to avoid errors caused by the code expecting a float.\n",
      "  warnings.warn(\n",
      "/opt/miniconda3/envs/crystal_sim/lib/python3.11/site-packages/pymatgen/core/periodic_table.py:142: UserWarning: No Pauling electronegativity for Ar. Setting to NaN. This has no physical meaning, and is mainly done to avoid errors caused by the code expecting a float.\n",
      "  warnings.warn(\n",
      "/opt/miniconda3/envs/crystal_sim/lib/python3.11/site-packages/pymatgen/core/periodic_table.py:142: UserWarning: No Pauling electronegativity for Ar. Setting to NaN. This has no physical meaning, and is mainly done to avoid errors caused by the code expecting a float.\n",
      "  warnings.warn(\n",
      "/opt/miniconda3/envs/crystal_sim/lib/python3.11/site-packages/pymatgen/core/periodic_table.py:142: UserWarning: No Pauling electronegativity for Ar. Setting to NaN. This has no physical meaning, and is mainly done to avoid errors caused by the code expecting a float.\n",
      "  warnings.warn(\n",
      "/opt/miniconda3/envs/crystal_sim/lib/python3.11/site-packages/pymatgen/core/periodic_table.py:142: UserWarning: No Pauling electronegativity for Ar. Setting to NaN. This has no physical meaning, and is mainly done to avoid errors caused by the code expecting a float.\n",
      "  warnings.warn(\n",
      "/opt/miniconda3/envs/crystal_sim/lib/python3.11/site-packages/pymatgen/core/periodic_table.py:142: UserWarning: No Pauling electronegativity for Ar. Setting to NaN. This has no physical meaning, and is mainly done to avoid errors caused by the code expecting a float.\n",
      "  warnings.warn(\n"
     ]
    },
    {
     "name": "stdout",
     "output_type": "stream",
     "text": [
      "_________________50% complete_________________\n",
      ">> Crystal No.1500: (MPID(mp-972949), 'LaSmZn2') \n",
      ">> Time elapsed: 1655.986 s\n",
      ">> Time diff: 233.773 s\n",
      "_________________60% complete_________________\n",
      ">> Crystal No.1800: (MPID(mp-862814), 'PaSiTc2') \n",
      ">> Time elapsed: 1882.365 s\n",
      ">> Time diff: 226.378 s\n",
      "_________________70% complete_________________\n",
      ">> Crystal No.2100: (MPID(mp-865140), 'MnGaRu2') \n",
      ">> Time elapsed: 2113.412 s\n",
      ">> Time diff: 231.047 s\n",
      "_________________80% complete_________________\n",
      ">> Crystal No.2400: (MPID(mp-568914), 'K2WCl6') \n",
      ">> Time elapsed: 2348.825 s\n",
      ">> Time diff: 235.413 s\n",
      "_________________90% complete_________________\n",
      ">> Crystal No.2700: (MPID(mp-2232639), 'NaMg(Cu3O4)2') \n",
      ">> Time elapsed: 2574.61 s\n",
      ">> Time diff: 225.785 s\n",
      "_________________100% complete_________________\n",
      ">> No. of crystals preprocessed: 3000\n",
      ">> Total time elapsed: 2797.375 s\n",
      "______________________________________________________________________\n",
      "\n",
      ">> Sanity Check: printing element(s) 1 of 3000 from each array\n",
      "\n",
      ">> [[3.59, 2.539, 5.077, 3.59, 2.539, 0.785, 0.0, 0.786, 0.785, 3.59, 4.397, 2.538, 5.077, 4.397, 0.615, 0.956, 0.0, 0.955, 3.59, 2.539, 3.59, 2.539, 5.077, 0.785, 0.786, 0.785, 0.0, 3.59, 4.397, 2.538, 5.077, 4.397, 0.615, 0.956, 0.0, 0.955, 3.59, 4.397, 2.538, 5.077, 4.397, 0.615, 0.956, 0.0, 0.955, 3.59, 2.539, 5.077, 3.59, 2.539, 0.785, 0.0, 0.786, 0.785]]\n",
      ">> [[5.26, 5.26, 5.26, 60.0, 60.0, 60.0]]\n",
      ">> [225]\n",
      ">> ['F']\n",
      ">> ['Cubic']\n",
      ">> [(MPID(mp-1038831), 'Mg3Bi')]\n",
      "\n",
      ">> All files saved to: /Users/jonathanchoi/Desktop/GitHub Projects/crystal_sim/preprocessed_data/cubic_F_225_v3\n"
     ]
    }
   ],
   "source": [
    "import os\n",
    "import numpy as np\n",
    "import preprocessing as pp\n",
    "from joblib import dump, load\n",
    "import time\n",
    "\n",
    "\n",
    "def preprocessing(directions: list, api_key: str, crystal_system: str, base_dir: str, folder_dir: str, txt_filename: str = None, min_size: int = None, space_group: int = None, plot: bool = False):\n",
    "    # start = time.time()\n",
    "    if txt_filename:\n",
    "        filename = os.path.join(base_dir, txt_filename)\n",
    "\n",
    "        preproc = pp.save_data(\n",
    "                    pp.get_preprocessed_data(\n",
    "                        pp.get_crystals_from_file(\n",
    "                            filename=filename,\n",
    "                            api_key=api_key\n",
    "                            ),\n",
    "                        directions,\n",
    "                        plot=True,\n",
    "                        vectors=True\n",
    "                        ),\n",
    "                    base_dir=base_dir,\n",
    "                    new_dir=folder_dir\n",
    "                    )\n",
    "        # print(f\">> Time to preprocess: {round(time.time() - start, 2)} s\")\n",
    "        return preproc\n",
    "    else:\n",
    "        preproc = pp.save_data(\n",
    "                    pp.get_preprocessed_data(\n",
    "                        pp.get_crystal_info(\n",
    "                            pp.retrieve_crystals_from_api(\n",
    "                                api_key=api_key, \n",
    "                                crystal_system=crystal_system, \n",
    "                                base_dir=base_dir,\n",
    "                                write=False,\n",
    "                                min_size=min_size,\n",
    "                                space_group=space_group\n",
    "                                ),\n",
    "                            ), \n",
    "                        directions,\n",
    "                        plot=plot,\n",
    "                        vectors=True\n",
    "                        ),\n",
    "                    base_dir=base_dir, \n",
    "                    new_dir=folder_dir\n",
    "                    )\n",
    "        \n",
    "        # print(f\">> Time to preprocess: {round(time.time() - start, 2)} s\")\n",
    "        # print(f\">> Path to load data (IMPORTANT):\\n{preproc}\")\n",
    "        return preproc\n",
    "\n",
    "\n",
    "\n",
    "key = 'MKc7ImqWWraesSOgZw5qy1pwY5pi3Djr'\n",
    "upper = 2\n",
    "base_dir = '/Users/jonathanchoi/Desktop/GitHub Projects/crystal_sim/'\n",
    "directions = pp.get_cartesian_beam_directions(upper)\n",
    "directions = np.delete(directions, 3, axis=0)\n",
    "\n",
    "path = preprocessing(\n",
    "                    directions=directions, \n",
    "                    api_key=key, \n",
    "                    crystal_system=\"Cubic\", \n",
    "                    base_dir=base_dir, \n",
    "                    folder_dir=\"cubic_F_225_v3\",\n",
    "                    min_size=3000, \n",
    "                    space_group=225, \n",
    "                    plot=False\n",
    "                    )\n",
    "\n",
    "plot = False and "
   ]
  },
  {
   "cell_type": "code",
   "execution_count": 5,
   "metadata": {},
   "outputs": [
    {
     "name": "stdout",
     "output_type": "stream",
     "text": [
      ">> Retrieving: cubic_F_225_v2_regression_1500.joblib\n",
      ">> Retrieving: cubic_F_225_v2_labels_classification_bravais_2.joblib\n",
      ">> Retrieving: cubic_F_225_v2_material_ids1500.joblib\n",
      ">> Retrieving: cubic_F_225_v2_features_2.joblib\n",
      ">> Retrieving: cubic_F_225_v2_labels_classification_space_2.joblib\n",
      ">> Retrieving: cubic_F_225_v2_labels_classification_system_2.joblib\n",
      ">> Retrieving: cubic_F_225_v2_material_ids2.joblib\n",
      ">> Retrieving: cubic_F_225_v2_labels_classification_system_1500.joblib\n",
      ">> Retrieving: cubic_F_225_v2_labels_classification_bravais_1500.joblib\n",
      ">> Retrieving: cubic_F_225_v2_features_1500.joblib\n",
      ">> Retrieving: cubic_F_225_v2_regression_2.joblib\n",
      ">> Retrieving: cubic_F_225_v2_labels_classification_space_1500.joblib\n",
      ">> Sanity Check: printing element(s) 1 of 1500 from each array\n",
      "\n",
      "[[3.43, 3.43, 3.43, 60.0, 60.0, 60.0]]\n",
      "['F']\n",
      "[(MPID(mp-1008785), 'RuO2')]\n",
      "[[4.618, 3.265, 4.618, 3.265, 6.531, 0.785, 0.786, 0.785, 0.0, 4.618, 5.656, 3.266, 6.531, 5.656, 0.616, 0.955, 0.0, 0.955, 4.618, 3.265, 6.531, 4.618, 3.265, 0.785, 0.0, 0.786, 0.785, 4.618, 5.656, 3.266, 6.531, 5.656, 0.616, 0.955, 0.0, 0.955, 4.618, 5.656, 3.266, 6.531, 5.656, 0.616, 0.955, 0.0, 0.955, 4.618, 3.265, 6.531, 4.618, 3.265, 0.785, 0.0, 0.786, 0.785]]\n",
      "[225]\n",
      "['Cubic']\n",
      "[(MPID(mp-1008277), 'CrCo2As')]\n",
      "['Cubic']\n",
      "['F']\n",
      "[[5.502, 3.891, 7.781, 5.502, 3.891, 0.785, 0.0, 0.786, 0.785, 5.502, 4.562, 2.383, 3.891, 2.383, 0.44, 0.515, 0.616, 0.616, 5.502, 3.891, 7.781, 5.502, 3.891, 0.785, 0.0, 0.786, 0.785, 5.502, 4.562, 2.383, 3.891, 2.383, 0.44, 0.515, 0.616, 0.616, 5.502, 2.383, 3.891, 2.383, 5.502, 0.955, 0.616, 0.616, 0.955, 5.502, 3.891, 7.781, 5.502, 3.891, 0.785, 0.0, 0.786, 0.785]]\n",
      "[[4.09, 4.09, 4.09, 60.0, 60.0, 60.0]]\n",
      "[225]\n"
     ]
    }
   ],
   "source": [
    "path = '/Users/jonathanchoi/Desktop/GitHub Projects/crystal_sim/preprocessed_data/cubic_F_225_v2'\n",
    "\n",
    "data_list = pp.load_data(path)"
   ]
  },
  {
   "cell_type": "code",
   "execution_count": null,
   "metadata": {},
   "outputs": [],
   "source": [
    "from pymatgen.analysis.diffraction.tem import TEMCalculator\n",
    "from pymatgen.core.structure import Structure\n",
    "from pymatgen.symmetry.analyzer import SpacegroupAnalyzer\n",
    "from mp_api.client import MPRester\n",
    "\n",
    "import matplotlib.pyplot as plt\n",
    "import pandas as pd\n",
    "import numpy as np\n",
    "import math as m\n",
    "from decimal import Decimal, ROUND_HALF_UP\n",
    "\n",
    "    \n",
    "with MPRester(api_key=api_key) as mpr:\n",
    "    crystals = mpr.materials.search(\n",
    "        # elements=[\"Si\", \"O\"], # for testing only\n",
    "        spacegroup_number = 225,\n",
    "        crystal_system=[crystal_system.capitalize()],\n",
    "        fields=['material_id', 'symmetry']\n",
    "    )"
   ]
  },
  {
   "cell_type": "code",
   "execution_count": 9,
   "metadata": {},
   "outputs": [
    {
     "name": "stdout",
     "output_type": "stream",
     "text": [
      "1\n"
     ]
    }
   ],
   "source": [
    "def hello(**kwargs):\n",
    "    return print(kwargs['min_size'])\n",
    "\n",
    "hello(min_size = 1, dumb = 2)\n",
    "\n"
   ]
  },
  {
   "cell_type": "code",
   "execution_count": null,
   "metadata": {},
   "outputs": [],
   "source": []
  }
 ],
 "metadata": {
  "kernelspec": {
   "display_name": "finance",
   "language": "python",
   "name": "python3"
  },
  "language_info": {
   "codemirror_mode": {
    "name": "ipython",
    "version": 3
   },
   "file_extension": ".py",
   "mimetype": "text/x-python",
   "name": "python",
   "nbconvert_exporter": "python",
   "pygments_lexer": "ipython3",
   "version": "3.11.9"
  }
 },
 "nbformat": 4,
 "nbformat_minor": 2
}
