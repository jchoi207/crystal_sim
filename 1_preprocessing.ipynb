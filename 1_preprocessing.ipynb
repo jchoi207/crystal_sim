{
 "cells": [
  {
   "cell_type": "markdown",
   "metadata": {},
   "source": [
    "### Imports"
   ]
  },
  {
   "cell_type": "code",
   "execution_count": 3,
   "metadata": {},
   "outputs": [
    {
     "name": "stderr",
     "output_type": "stream",
     "text": [
      "/opt/miniconda3/envs/crystal_sim/lib/python3.11/site-packages/tqdm/auto.py:21: TqdmWarning: IProgress not found. Please update jupyter and ipywidgets. See https://ipywidgets.readthedocs.io/en/stable/user_install.html\n",
      "  from .autonotebook import tqdm as notebook_tqdm\n"
     ]
    }
   ],
   "source": [
    "import os\n",
    "import numpy as np\n",
    "import preprocessing as pp\n",
    "from joblib import dump, load"
   ]
  },
  {
   "cell_type": "markdown",
   "metadata": {},
   "source": [
    "### Preprocessing from .txt file"
   ]
  },
  {
   "cell_type": "code",
   "execution_count": 4,
   "metadata": {},
   "outputs": [],
   "source": [
    "key = 'YOUR_KEY'\n",
    "upper = 2\n",
    "local_filename = '225_cubic.txt'\n",
    "path = 'YOUR_PATH'"
   ]
  },
  {
   "cell_type": "code",
   "execution_count": 5,
   "metadata": {},
   "outputs": [
    {
     "name": "stderr",
     "output_type": "stream",
     "text": [
      "Retrieving MaterialsDoc documents: 100%|██████████| 432/432 [00:00<00:00, 977840.98it/s]\n"
     ]
    },
    {
     "name": "stdout",
     "output_type": "stream",
     "text": [
      "_________________0% complete_________________\n",
      "Time elapsed: 0.001 s\n",
      "Time diff: 0.001 s\n",
      "0: (MPID(mp-1006278), 'AcEuAu2') \n",
      "_________________5% complete_________________\n",
      "Time elapsed: 20.448 s\n",
      "Time diff: 20.446 s\n",
      "25: (MPID(mp-1183074), 'Ac2MgGa') \n",
      "_________________11% complete_________________\n",
      "Time elapsed: 43.352 s\n",
      "Time diff: 22.904 s\n",
      "50: (MPID(mp-5778), 'AlVFe2') \n",
      "_________________17% complete_________________\n",
      "Time elapsed: 62.907 s\n",
      "Time diff: 19.554 s\n",
      "75: (MPID(mp-865398), 'Ac2ZnIr') \n",
      "_________________23% complete_________________\n",
      "Time elapsed: 82.285 s\n",
      "Time diff: 19.378 s\n",
      "100: (MPID(mp-983587), 'Ac2NiGe') \n",
      "_________________28% complete_________________\n",
      "Time elapsed: 104.313 s\n",
      "Time diff: 22.027 s\n",
      "125: (MPID(mp-1184521), 'GdErZn2') \n",
      "_________________34% complete_________________\n",
      "Time elapsed: 130.503 s\n",
      "Time diff: 26.19 s\n",
      "150: (MPID(mp-2199), 'Fe3Si') \n",
      "_________________40% complete_________________\n",
      "Time elapsed: 151.642 s\n",
      "Time diff: 21.138 s\n",
      "175: (MPID(mp-672657), 'Hf6Co16Ge7') \n",
      "_________________46% complete_________________\n",
      "Time elapsed: 172.517 s\n",
      "Time diff: 20.874 s\n",
      "200: (MPID(mp-866052), 'Gd2PdRu') \n",
      "_________________52% complete_________________\n",
      "Time elapsed: 192.435 s\n",
      "Time diff: 19.918 s\n",
      "225: (MPID(mp-1183167), 'AgPdAu2') \n",
      "_________________57% complete_________________\n",
      "Time elapsed: 213.819 s\n",
      "Time diff: 21.384 s\n",
      "250: (MPID(mp-1205772), 'Cs2MnCl6') \n",
      "_________________63% complete_________________\n",
      "Time elapsed: 234.311 s\n",
      "Time diff: 20.493 s\n",
      "275: (MPID(mp-559454), 'Cs2KFeF6') \n",
      "_________________69% complete_________________\n",
      "Time elapsed: 256.662 s\n",
      "Time diff: 22.351 s\n",
      "300: (MPID(mp-865729), 'CaAg2Sn') \n",
      "_________________75% complete_________________\n",
      "Time elapsed: 276.795 s\n",
      "Time diff: 20.132 s\n",
      "325: (MPID(mp-1110663), 'Rb2NaPrF6') \n",
      "_________________81% complete_________________\n",
      "Time elapsed: 299.668 s\n",
      "Time diff: 22.873 s\n",
      "350: (MPID(mp-1113141), 'Cs2TlHgF6') \n",
      "_________________86% complete_________________\n",
      "Time elapsed: 317.621 s\n",
      "Time diff: 17.953 s\n",
      "375: (MPID(mp-1186680), 'PmZnCu2') \n",
      "_________________92% complete_________________\n",
      "Time elapsed: 340.727 s\n",
      "Time diff: 23.106 s\n",
      "400: (MPID(mp-861481), 'Pr2AgRu') \n",
      "_________________98% complete_________________\n",
      "Time elapsed: 357.915 s\n",
      "Time diff: 17.187 s\n",
      "425: (MPID(mp-978545), 'Sm2AgHg') \n",
      "___________________________________\n",
      "Time elapsed: 363.179 s\n",
      "100% complete\n",
      "______________________________________________________________________\n"
     ]
    }
   ],
   "source": [
    "filename = os.path.join(path, local_filename) \n",
    "\n",
    "directions = pp.get_cartesian_beam_directions(upper)\n",
    "directions = np.delete(directions, 3, axis=0)\n",
    "\n",
    "crystal, system_number, system_group, ids = pp.get_crystals_from_file(filename=filename, api_key=key)\n",
    "features, labels_regression, labels_classification_space, labels_classification_system, materials = pp.get_preprocessed_data(\n",
    "    crystal, system_number, system_group, ids, directions, plot=False, vectors=True)"
   ]
  },
  {
   "cell_type": "markdown",
   "metadata": {},
   "source": [
    "### Sanity Check"
   ]
  },
  {
   "cell_type": "code",
   "execution_count": 11,
   "metadata": {},
   "outputs": [
    {
     "name": "stdout",
     "output_type": "stream",
     "text": [
      "False\n",
      "[3.5, 2.475, 3.5, 2.475, 3.5, 0.785, 0.786, 0.785, 0.786, 3.5, 4.287, 2.475, 4.95, 4.287, 0.616, 0.955, 0.0, 0.955, 3.5, 2.475, 3.5, 2.475, 4.95, 0.785, 0.786, 0.785, 0.0, 3.5, 4.287, 2.475, 4.95, 4.287, 0.616, 0.955, 0.0, 0.955, 3.5, 4.287, 2.475, 4.95, 4.287, 0.616, 0.955, 0.0, 0.955, 3.5, 2.475, 3.5, 2.475, 4.95, 0.785, 0.786, 0.785, 0.0]\n",
      "[5.4, 5.4, 5.4, 60.0, 60.0, 60.0]\n",
      "225\n",
      "Cubic\n",
      "(MPID(mp-1006278), 'AcEuAu2')\n"
     ]
    }
   ],
   "source": [
    "## Check for any np.nan calculated in features\n",
    "print(np.nan in features)\n",
    "\n",
    "## Print first element of each of the returned data\n",
    "for i in [features[0], labels_regression[0], labels_classification_space[0], labels_classification_system[0], materials[0]]:\n",
    "    print(i)"
   ]
  },
  {
   "cell_type": "markdown",
   "metadata": {},
   "source": [
    "### Dump and save data for training and future use"
   ]
  },
  {
   "cell_type": "code",
   "execution_count": 14,
   "metadata": {},
   "outputs": [
    {
     "name": "stdout",
     "output_type": "stream",
     "text": [
      "['/Users/jonathanchoi/Desktop/GitHub Projects/crystal_sim/preprocessed_data/F225_cubic/F225_cubic_features_432.joblib', '/Users/jonathanchoi/Desktop/GitHub Projects/crystal_sim/preprocessed_data/F225_cubic/F225_cubic_regression_432.joblib', '/Users/jonathanchoi/Desktop/GitHub Projects/crystal_sim/preprocessed_data/F225_cubic/F225_cubic_labels_classification_space_432.joblib', '/Users/jonathanchoi/Desktop/GitHub Projects/crystal_sim/preprocessed_data/F225_cubic/F225_cubic_labels_classification_system_432.joblib', '/Users/jonathanchoi/Desktop/GitHub Projects/crystal_sim/preprocessed_data/F225_cubic/F225_cubic_material_ids432.joblib']\n",
      "Path to retrieve files: /Users/jonathanchoi/Desktop/GitHub Projects/crystal_sim/F225_cubic_key_path\n"
     ]
    }
   ],
   "source": [
    "path = pp.save_data(features, labels_regression, labels_classification_space, labels_classification_system, materials, base_dir = \"/Users/jonathanchoi/Desktop/GitHub Projects/crystal_sim\", new_dir= \"F225_cubic\")"
   ]
  },
  {
   "cell_type": "code",
   "execution_count": 18,
   "metadata": {},
   "outputs": [
    {
     "name": "stdout",
     "output_type": "stream",
     "text": [
      "Retrieving: /Users/jonathanchoi/Desktop/GitHub Projects/crystal_sim/preprocessed_data/F225_cubic/F225_cubic_features_432.joblib\n",
      "Retrieving: /Users/jonathanchoi/Desktop/GitHub Projects/crystal_sim/preprocessed_data/F225_cubic/F225_cubic_regression_432.joblib\n",
      "Retrieving: /Users/jonathanchoi/Desktop/GitHub Projects/crystal_sim/preprocessed_data/F225_cubic/F225_cubic_labels_classification_space_432.joblib\n",
      "Retrieving: /Users/jonathanchoi/Desktop/GitHub Projects/crystal_sim/preprocessed_data/F225_cubic/F225_cubic_labels_classification_system_432.joblib\n",
      "Retrieving: /Users/jonathanchoi/Desktop/GitHub Projects/crystal_sim/preprocessed_data/F225_cubic/F225_cubic_material_ids432.joblib\n",
      "[3.5, 2.475, 3.5, 2.475, 3.5, 0.785, 0.786, 0.785, 0.786, 3.5, 4.287, 2.475, 4.95, 4.287, 0.616, 0.955, 0.0, 0.955, 3.5, 2.475, 3.5, 2.475, 4.95, 0.785, 0.786, 0.785, 0.0, 3.5, 4.287, 2.475, 4.95, 4.287, 0.616, 0.955, 0.0, 0.955, 3.5, 4.287, 2.475, 4.95, 4.287, 0.616, 0.955, 0.0, 0.955, 3.5, 2.475, 3.5, 2.475, 4.95, 0.785, 0.786, 0.785, 0.0]\n",
      "[5.4, 5.4, 5.4, 60.0, 60.0, 60.0]\n",
      "225\n",
      "Cubic\n",
      "(MPID(mp-1006278), 'AcEuAu2')\n"
     ]
    }
   ],
   "source": [
    "my_loaded_data = pp.load_data(path)\n",
    "\n",
    "## Note that this loaded data should correspond to the above\n",
    "print(my_loaded_data[0][0])\n",
    "print(my_loaded_data[1][0])\n",
    "print(my_loaded_data[2][0])\n",
    "print(my_loaded_data[3][0])\n",
    "print(my_loaded_data[4][0])"
   ]
  },
  {
   "cell_type": "code",
   "execution_count": null,
   "metadata": {},
   "outputs": [],
   "source": [
    "## This is it for preprocessing. Move on to the NN file next."
   ]
  }
 ],
 "metadata": {
  "kernelspec": {
   "display_name": "finance",
   "language": "python",
   "name": "python3"
  },
  "language_info": {
   "codemirror_mode": {
    "name": "ipython",
    "version": 3
   },
   "file_extension": ".py",
   "mimetype": "text/x-python",
   "name": "python",
   "nbconvert_exporter": "python",
   "pygments_lexer": "ipython3",
   "version": "3.11.9"
  }
 },
 "nbformat": 4,
 "nbformat_minor": 2
}
