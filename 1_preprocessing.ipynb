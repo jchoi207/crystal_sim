{
 "cells": [
  {
   "cell_type": "markdown",
   "metadata": {},
   "source": [
    "### Imports"
   ]
  },
  {
   "cell_type": "code",
   "execution_count": 1,
   "metadata": {},
   "outputs": [
    {
     "name": "stderr",
     "output_type": "stream",
     "text": [
      "/opt/miniconda3/envs/crystal_sim/lib/python3.11/site-packages/tqdm/auto.py:21: TqdmWarning: IProgress not found. Please update jupyter and ipywidgets. See https://ipywidgets.readthedocs.io/en/stable/user_install.html\n",
      "  from .autonotebook import tqdm as notebook_tqdm\n"
     ]
    },
    {
     "name": "stdout",
     "output_type": "stream",
     "text": [
      "[[0.    0.    1.   ]\n",
      " [0.    0.707 0.707]\n",
      " [0.    1.    0.   ]\n",
      " [0.707 0.    0.707]\n",
      " [0.707 0.707 0.   ]\n",
      " [1.    0.    0.   ]]\n",
      "Hi from preprocessing\n"
     ]
    },
    {
     "name": "stderr",
     "output_type": "stream",
     "text": [
      "Retrieving MaterialsDoc documents: 100%|██████████| 9119/9119 [00:00<00:00, 13488.82it/s]\n"
     ]
    },
    {
     "name": "stdout",
     "output_type": "stream",
     "text": [
      "_________________Summary:_________________\n",
      "\n",
      ">> F Centered on A: number of crystals - 9119\n",
      ">> Total number of crystals: 9119\n",
      "\n",
      ">> Smallest number of crystals: 9119\n",
      ">> Overwriting the smallest number of available sample points from 9119 to 1500\n",
      ">> 1500 crystals will be processed\n",
      "\n"
     ]
    },
    {
     "name": "stderr",
     "output_type": "stream",
     "text": [
      "Retrieving MaterialsDoc documents: 100%|██████████| 1500/1500 [00:00<00:00, 4337.75it/s] \n"
     ]
    },
    {
     "name": "stdout",
     "output_type": "stream",
     "text": [
      "_________________0% complete_________________\n",
      ">> Crystal No.0: (MPID(mp-1008734), 'ThH2') \n",
      ">> Time elapsed: 0.001 s\n",
      ">> Time diff: 0.001 s\n"
     ]
    },
    {
     "ename": "KeyboardInterrupt",
     "evalue": "",
     "output_type": "error",
     "traceback": [
      "\u001b[0;31m---------------------------------------------------------------------------\u001b[0m",
      "\u001b[0;31mKeyboardInterrupt\u001b[0m                         Traceback (most recent call last)",
      "Cell \u001b[0;32mIn[1], line 64\u001b[0m\n\u001b[1;32m     59\u001b[0m \u001b[38;5;28mprint\u001b[39m(directions)\n\u001b[1;32m     63\u001b[0m \u001b[38;5;66;03m# test for from txt_filename\u001b[39;00m\n\u001b[0;32m---> 64\u001b[0m \u001b[43mpreprocessing\u001b[49m\u001b[43m(\u001b[49m\u001b[43mdirections\u001b[49m\u001b[38;5;241;43m=\u001b[39;49m\u001b[43mdirections\u001b[49m\u001b[43m,\u001b[49m\u001b[43m \u001b[49m\u001b[43mapi_key\u001b[49m\u001b[38;5;241;43m=\u001b[39;49m\u001b[43mkey\u001b[49m\u001b[43m,\u001b[49m\u001b[43m \u001b[49m\u001b[43mcrystal_system\u001b[49m\u001b[38;5;241;43m=\u001b[39;49m\u001b[38;5;124;43m\"\u001b[39;49m\u001b[38;5;124;43mCubic\u001b[39;49m\u001b[38;5;124;43m\"\u001b[39;49m\u001b[43m,\u001b[49m\u001b[43m \u001b[49m\u001b[43mbase_dir\u001b[49m\u001b[38;5;241;43m=\u001b[39;49m\u001b[43mbase_dir\u001b[49m\u001b[43m,\u001b[49m\u001b[43m \u001b[49m\u001b[43mfolder_dir\u001b[49m\u001b[38;5;241;43m=\u001b[39;49m\u001b[38;5;124;43m\"\u001b[39;49m\u001b[38;5;124;43mcubic_F_225_v2\u001b[39;49m\u001b[38;5;124;43m\"\u001b[39;49m\u001b[43m,\u001b[49m\u001b[43mmin_size\u001b[49m\u001b[38;5;241;43m=\u001b[39;49m\u001b[38;5;241;43m1500\u001b[39;49m\u001b[43m)\u001b[49m\n",
      "Cell \u001b[0;32mIn[1], line 31\u001b[0m, in \u001b[0;36mpreprocessing\u001b[0;34m(directions, api_key, crystal_system, base_dir, folder_dir, txt_filename, min_size)\u001b[0m\n\u001b[1;32m     28\u001b[0m \u001b[38;5;28;01melse\u001b[39;00m:\n\u001b[1;32m     29\u001b[0m     \u001b[38;5;28mprint\u001b[39m(\u001b[38;5;124m\"\u001b[39m\u001b[38;5;124mHi from preprocessing\u001b[39m\u001b[38;5;124m\"\u001b[39m)\n\u001b[1;32m     30\u001b[0m     preproc \u001b[38;5;241m=\u001b[39m pp\u001b[38;5;241m.\u001b[39msave_data(\n\u001b[0;32m---> 31\u001b[0m                 \u001b[43mpp\u001b[49m\u001b[38;5;241;43m.\u001b[39;49m\u001b[43mget_preprocessed_data\u001b[49m\u001b[43m(\u001b[49m\n\u001b[1;32m     32\u001b[0m \u001b[43m                    \u001b[49m\u001b[43mpp\u001b[49m\u001b[38;5;241;43m.\u001b[39;49m\u001b[43mget_crystal_info\u001b[49m\u001b[43m(\u001b[49m\n\u001b[1;32m     33\u001b[0m \u001b[43m                        \u001b[49m\u001b[43mpp\u001b[49m\u001b[38;5;241;43m.\u001b[39;49m\u001b[43mretrieve_crystals_from_api\u001b[49m\u001b[43m(\u001b[49m\n\u001b[1;32m     34\u001b[0m \u001b[43m                            \u001b[49m\u001b[43mapi_key\u001b[49m\u001b[38;5;241;43m=\u001b[39;49m\u001b[43mapi_key\u001b[49m\u001b[43m,\u001b[49m\u001b[43m \u001b[49m\n\u001b[1;32m     35\u001b[0m \u001b[43m                            \u001b[49m\u001b[43mcrystal_system\u001b[49m\u001b[38;5;241;43m=\u001b[39;49m\u001b[43mcrystal_system\u001b[49m\u001b[43m,\u001b[49m\u001b[43m \u001b[49m\n\u001b[1;32m     36\u001b[0m \u001b[43m                            \u001b[49m\u001b[43mbase_dir\u001b[49m\u001b[38;5;241;43m=\u001b[39;49m\u001b[43mbase_dir\u001b[49m\u001b[43m,\u001b[49m\n\u001b[1;32m     37\u001b[0m \u001b[43m                            \u001b[49m\u001b[43mwrite\u001b[49m\u001b[38;5;241;43m=\u001b[39;49m\u001b[38;5;28;43;01mFalse\u001b[39;49;00m\u001b[43m,\u001b[49m\n\u001b[1;32m     38\u001b[0m \u001b[43m                            \u001b[49m\u001b[43mmin_size\u001b[49m\u001b[38;5;241;43m=\u001b[39;49m\u001b[43mmin_size\u001b[49m\n\u001b[1;32m     39\u001b[0m \u001b[43m                            \u001b[49m\u001b[43m)\u001b[49m\u001b[43m,\u001b[49m\n\u001b[1;32m     40\u001b[0m \u001b[43m                        \u001b[49m\u001b[43m)\u001b[49m\u001b[43m,\u001b[49m\u001b[43m \u001b[49m\n\u001b[1;32m     41\u001b[0m \u001b[43m                    \u001b[49m\u001b[43mdirections\u001b[49m\u001b[43m,\u001b[49m\n\u001b[1;32m     42\u001b[0m \u001b[43m                    \u001b[49m\u001b[43mplot\u001b[49m\u001b[38;5;241;43m=\u001b[39;49m\u001b[38;5;28;43;01mFalse\u001b[39;49;00m\u001b[43m,\u001b[49m\n\u001b[1;32m     43\u001b[0m \u001b[43m                    \u001b[49m\u001b[43mvectors\u001b[49m\u001b[38;5;241;43m=\u001b[39;49m\u001b[38;5;28;43;01mTrue\u001b[39;49;00m\n\u001b[1;32m     44\u001b[0m \u001b[43m                    \u001b[49m\u001b[43m)\u001b[49m,\n\u001b[1;32m     45\u001b[0m                 base_dir\u001b[38;5;241m=\u001b[39mbase_dir, \n\u001b[1;32m     46\u001b[0m                 new_dir\u001b[38;5;241m=\u001b[39mfolder_dir\n\u001b[1;32m     47\u001b[0m                 )\n\u001b[1;32m     49\u001b[0m     \u001b[38;5;28mprint\u001b[39m(\u001b[38;5;124mf\u001b[39m\u001b[38;5;124m\"\u001b[39m\u001b[38;5;124m>> Time to preprocess: \u001b[39m\u001b[38;5;132;01m{\u001b[39;00m\u001b[38;5;28mround\u001b[39m(time\u001b[38;5;241m.\u001b[39mtime()\u001b[38;5;250m \u001b[39m\u001b[38;5;241m-\u001b[39m\u001b[38;5;250m \u001b[39mstart,\u001b[38;5;250m \u001b[39m\u001b[38;5;241m2\u001b[39m)\u001b[38;5;132;01m}\u001b[39;00m\u001b[38;5;124m s\u001b[39m\u001b[38;5;124m\"\u001b[39m)\n\u001b[1;32m     50\u001b[0m     \u001b[38;5;28;01mreturn\u001b[39;00m preproc\n",
      "File \u001b[0;32m~/Desktop/GitHub Projects/crystal_sim/preprocessing.py:475\u001b[0m, in \u001b[0;36mget_preprocessed_data\u001b[0;34m(get_crystal_returns, beam_directions, plot, vectors)\u001b[0m\n\u001b[1;32m    471\u001b[0m parameters \u001b[38;5;241m=\u001b[39m [\u001b[38;5;28mround\u001b[39m(struct[unit_parameter], \u001b[38;5;241m2\u001b[39m) \u001b[38;5;28;01mfor\u001b[39;00m unit_parameter \u001b[38;5;129;01min\u001b[39;00m [\n\u001b[1;32m    472\u001b[0m     \u001b[38;5;124m'\u001b[39m\u001b[38;5;124ma\u001b[39m\u001b[38;5;124m'\u001b[39m, \u001b[38;5;124m'\u001b[39m\u001b[38;5;124mb\u001b[39m\u001b[38;5;124m'\u001b[39m, \u001b[38;5;124m'\u001b[39m\u001b[38;5;124mc\u001b[39m\u001b[38;5;124m'\u001b[39m, \u001b[38;5;124m'\u001b[39m\u001b[38;5;124malpha\u001b[39m\u001b[38;5;124m'\u001b[39m, \u001b[38;5;124m'\u001b[39m\u001b[38;5;124mbeta\u001b[39m\u001b[38;5;124m'\u001b[39m, \u001b[38;5;124m'\u001b[39m\u001b[38;5;124mgamma\u001b[39m\u001b[38;5;124m'\u001b[39m]]\n\u001b[1;32m    473\u001b[0m labels_regression\u001b[38;5;241m.\u001b[39mappend(parameters)\n\u001b[0;32m--> 475\u001b[0m dfs \u001b[38;5;241m=\u001b[39m \u001b[43m[\u001b[49m\u001b[43mget_dp_from_beam_direction\u001b[49m\u001b[43m(\u001b[49m\n\u001b[1;32m    476\u001b[0m \u001b[43m    \u001b[49m\u001b[43mdirection\u001b[49m\u001b[43m,\u001b[49m\u001b[43m \u001b[49m\u001b[43mmy_crystal_structure\u001b[49m\u001b[43m)\u001b[49m\u001b[43m \u001b[49m\u001b[38;5;28;43;01mfor\u001b[39;49;00m\u001b[43m \u001b[49m\u001b[43mdirection\u001b[49m\u001b[43m \u001b[49m\u001b[38;5;129;43;01min\u001b[39;49;00m\u001b[43m \u001b[49m\u001b[43mbeam_directions\u001b[49m\u001b[43m]\u001b[49m\n\u001b[1;32m    478\u001b[0m features_i \u001b[38;5;241m=\u001b[39m []\n\u001b[1;32m    479\u001b[0m \u001b[38;5;28;01mif\u001b[39;00m vectors:\n",
      "File \u001b[0;32m~/Desktop/GitHub Projects/crystal_sim/preprocessing.py:475\u001b[0m, in \u001b[0;36m<listcomp>\u001b[0;34m(.0)\u001b[0m\n\u001b[1;32m    471\u001b[0m parameters \u001b[38;5;241m=\u001b[39m [\u001b[38;5;28mround\u001b[39m(struct[unit_parameter], \u001b[38;5;241m2\u001b[39m) \u001b[38;5;28;01mfor\u001b[39;00m unit_parameter \u001b[38;5;129;01min\u001b[39;00m [\n\u001b[1;32m    472\u001b[0m     \u001b[38;5;124m'\u001b[39m\u001b[38;5;124ma\u001b[39m\u001b[38;5;124m'\u001b[39m, \u001b[38;5;124m'\u001b[39m\u001b[38;5;124mb\u001b[39m\u001b[38;5;124m'\u001b[39m, \u001b[38;5;124m'\u001b[39m\u001b[38;5;124mc\u001b[39m\u001b[38;5;124m'\u001b[39m, \u001b[38;5;124m'\u001b[39m\u001b[38;5;124malpha\u001b[39m\u001b[38;5;124m'\u001b[39m, \u001b[38;5;124m'\u001b[39m\u001b[38;5;124mbeta\u001b[39m\u001b[38;5;124m'\u001b[39m, \u001b[38;5;124m'\u001b[39m\u001b[38;5;124mgamma\u001b[39m\u001b[38;5;124m'\u001b[39m]]\n\u001b[1;32m    473\u001b[0m labels_regression\u001b[38;5;241m.\u001b[39mappend(parameters)\n\u001b[0;32m--> 475\u001b[0m dfs \u001b[38;5;241m=\u001b[39m [\u001b[43mget_dp_from_beam_direction\u001b[49m\u001b[43m(\u001b[49m\n\u001b[1;32m    476\u001b[0m \u001b[43m    \u001b[49m\u001b[43mdirection\u001b[49m\u001b[43m,\u001b[49m\u001b[43m \u001b[49m\u001b[43mmy_crystal_structure\u001b[49m\u001b[43m)\u001b[49m \u001b[38;5;28;01mfor\u001b[39;00m direction \u001b[38;5;129;01min\u001b[39;00m beam_directions]\n\u001b[1;32m    478\u001b[0m features_i \u001b[38;5;241m=\u001b[39m []\n\u001b[1;32m    479\u001b[0m \u001b[38;5;28;01mif\u001b[39;00m vectors:\n",
      "File \u001b[0;32m~/Desktop/GitHub Projects/crystal_sim/preprocessing.py:366\u001b[0m, in \u001b[0;36mget_dp_from_beam_direction\u001b[0;34m(beam_direction, my_crystal_structure)\u001b[0m\n\u001b[1;32m    364\u001b[0m \u001b[38;5;66;03m# voltage for HT8700 CFE: 80 kV\u001b[39;00m\n\u001b[1;32m    365\u001b[0m my_tem \u001b[38;5;241m=\u001b[39m TEMCalculator(beam_direction\u001b[38;5;241m=\u001b[39mbeam_direction, voltage\u001b[38;5;241m=\u001b[39m\u001b[38;5;241m80\u001b[39m)\n\u001b[0;32m--> 366\u001b[0m df \u001b[38;5;241m=\u001b[39m \u001b[43mmy_tem\u001b[49m\u001b[38;5;241;43m.\u001b[39;49m\u001b[43mget_pattern\u001b[49m\u001b[43m(\u001b[49m\u001b[43mSpacegroupAnalyzer\u001b[49m\u001b[43m(\u001b[49m\n\u001b[1;32m    367\u001b[0m \u001b[43m    \u001b[49m\u001b[43mmy_crystal_structure\u001b[49m\u001b[43m)\u001b[49m\u001b[38;5;241;43m.\u001b[39;49m\u001b[43mget_conventional_standard_structure\u001b[49m\u001b[43m(\u001b[49m\u001b[43m)\u001b[49m\u001b[43m)\u001b[49m\n\u001b[1;32m    368\u001b[0m warnings\u001b[38;5;241m.\u001b[39mfilterwarnings(\n\u001b[1;32m    369\u001b[0m     \u001b[38;5;124m\"\u001b[39m\u001b[38;5;124mignore\u001b[39m\u001b[38;5;124m\"\u001b[39m, message\u001b[38;5;241m=\u001b[39m\u001b[38;5;124m\"\u001b[39m\u001b[38;5;124minvalid value encountered in arccos\u001b[39m\u001b[38;5;124m\"\u001b[39m)\n\u001b[1;32m    370\u001b[0m df \u001b[38;5;241m=\u001b[39m df\u001b[38;5;241m.\u001b[39mdrop(columns\u001b[38;5;241m=\u001b[39m[\u001b[38;5;124m'\u001b[39m\u001b[38;5;124mInterplanar Spacing\u001b[39m\u001b[38;5;124m'\u001b[39m, \u001b[38;5;124m'\u001b[39m\u001b[38;5;124m(hkl)\u001b[39m\u001b[38;5;124m'\u001b[39m, \u001b[38;5;124m'\u001b[39m\u001b[38;5;124mFilm radius\u001b[39m\u001b[38;5;124m'\u001b[39m])\n",
      "File \u001b[0;32m/opt/miniconda3/envs/crystal_sim/lib/python3.11/site-packages/pymatgen/analysis/diffraction/tem.py:301\u001b[0m, in \u001b[0;36mTEMCalculator.get_pattern\u001b[0;34m(self, structure, scaled, two_theta_range)\u001b[0m\n\u001b[1;32m    299\u001b[0m     structure \u001b[38;5;241m=\u001b[39m finder\u001b[38;5;241m.\u001b[39mget_refined_structure()\n\u001b[1;32m    300\u001b[0m points \u001b[38;5;241m=\u001b[39m \u001b[38;5;28mself\u001b[39m\u001b[38;5;241m.\u001b[39mgenerate_points(\u001b[38;5;241m-\u001b[39m\u001b[38;5;241m10\u001b[39m, \u001b[38;5;241m11\u001b[39m)\n\u001b[0;32m--> 301\u001b[0m tem_dots \u001b[38;5;241m=\u001b[39m \u001b[38;5;28;43mself\u001b[39;49m\u001b[38;5;241;43m.\u001b[39;49m\u001b[43mtem_dots\u001b[49m\u001b[43m(\u001b[49m\u001b[43mstructure\u001b[49m\u001b[43m,\u001b[49m\u001b[43m \u001b[49m\u001b[43mpoints\u001b[49m\u001b[43m)\u001b[49m\n\u001b[1;32m    302\u001b[0m field_names \u001b[38;5;241m=\u001b[39m [\n\u001b[1;32m    303\u001b[0m     \u001b[38;5;124m\"\u001b[39m\u001b[38;5;124mPosition\u001b[39m\u001b[38;5;124m\"\u001b[39m,\n\u001b[1;32m    304\u001b[0m     \u001b[38;5;124m\"\u001b[39m\u001b[38;5;124m(hkl)\u001b[39m\u001b[38;5;124m\"\u001b[39m,\n\u001b[0;32m   (...)\u001b[0m\n\u001b[1;32m    307\u001b[0m     \u001b[38;5;124m\"\u001b[39m\u001b[38;5;124mInterplanar Spacing\u001b[39m\u001b[38;5;124m\"\u001b[39m,\n\u001b[1;32m    308\u001b[0m ]\n\u001b[1;32m    309\u001b[0m rows_list \u001b[38;5;241m=\u001b[39m []\n",
      "File \u001b[0;32m/opt/miniconda3/envs/crystal_sim/lib/python3.11/site-packages/pymatgen/analysis/diffraction/tem.py:528\u001b[0m, in \u001b[0;36mTEMCalculator.tem_dots\u001b[0;34m(self, structure, points)\u001b[0m\n\u001b[1;32m    526\u001b[0m interplanar_spacings \u001b[38;5;241m=\u001b[39m \u001b[38;5;28mself\u001b[39m\u001b[38;5;241m.\u001b[39mget_interplanar_spacings(structure, points)\n\u001b[1;32m    527\u001b[0m bragg_angles \u001b[38;5;241m=\u001b[39m \u001b[38;5;28mself\u001b[39m\u001b[38;5;241m.\u001b[39mbragg_angles(interplanar_spacings)\n\u001b[0;32m--> 528\u001b[0m cell_intensity \u001b[38;5;241m=\u001b[39m \u001b[38;5;28;43mself\u001b[39;49m\u001b[38;5;241;43m.\u001b[39;49m\u001b[43mnormalized_cell_intensity\u001b[49m\u001b[43m(\u001b[49m\u001b[43mstructure\u001b[49m\u001b[43m,\u001b[49m\u001b[43m \u001b[49m\u001b[43mbragg_angles\u001b[49m\u001b[43m)\u001b[49m\n\u001b[1;32m    529\u001b[0m positions \u001b[38;5;241m=\u001b[39m \u001b[38;5;28mself\u001b[39m\u001b[38;5;241m.\u001b[39mget_positions(structure, points)\n\u001b[1;32m    530\u001b[0m \u001b[38;5;28;01mfor\u001b[39;00m hkl, intensity \u001b[38;5;129;01min\u001b[39;00m cell_intensity\u001b[38;5;241m.\u001b[39mitems():\n",
      "File \u001b[0;32m/opt/miniconda3/envs/crystal_sim/lib/python3.11/site-packages/pymatgen/analysis/diffraction/tem.py:335\u001b[0m, in \u001b[0;36mTEMCalculator.normalized_cell_intensity\u001b[0;34m(self, structure, bragg_angles)\u001b[0m\n\u001b[1;32m    324\u001b[0m \u001b[38;5;250m\u001b[39m\u001b[38;5;124;03m\"\"\"\u001b[39;00m\n\u001b[1;32m    325\u001b[0m \u001b[38;5;124;03mNormalizes the cell_intensity dict to 1, for use in plotting.\u001b[39;00m\n\u001b[1;32m    326\u001b[0m \n\u001b[0;32m   (...)\u001b[0m\n\u001b[1;32m    332\u001b[0m \u001b[38;5;124;03m    dict of hkl plane to normalized cell intensity\u001b[39;00m\n\u001b[1;32m    333\u001b[0m \u001b[38;5;124;03m\"\"\"\u001b[39;00m\n\u001b[1;32m    334\u001b[0m normalized_cell_intensity \u001b[38;5;241m=\u001b[39m {}\n\u001b[0;32m--> 335\u001b[0m cell_intensity \u001b[38;5;241m=\u001b[39m \u001b[38;5;28;43mself\u001b[39;49m\u001b[38;5;241;43m.\u001b[39;49m\u001b[43mcell_intensity\u001b[49m\u001b[43m(\u001b[49m\u001b[43mstructure\u001b[49m\u001b[43m,\u001b[49m\u001b[43m \u001b[49m\u001b[43mbragg_angles\u001b[49m\u001b[43m)\u001b[49m\n\u001b[1;32m    336\u001b[0m max_intensity \u001b[38;5;241m=\u001b[39m \u001b[38;5;28mmax\u001b[39m(cell_intensity\u001b[38;5;241m.\u001b[39mvalues())\n\u001b[1;32m    337\u001b[0m norm_factor \u001b[38;5;241m=\u001b[39m \u001b[38;5;241m1\u001b[39m \u001b[38;5;241m/\u001b[39m max_intensity\n",
      "File \u001b[0;32m/opt/miniconda3/envs/crystal_sim/lib/python3.11/site-packages/pymatgen/analysis/diffraction/tem.py:275\u001b[0m, in \u001b[0;36mTEMCalculator.cell_intensity\u001b[0;34m(self, structure, bragg_angles)\u001b[0m\n\u001b[1;32m    262\u001b[0m \u001b[38;5;28;01mdef\u001b[39;00m \u001b[38;5;21mcell_intensity\u001b[39m(\n\u001b[1;32m    263\u001b[0m     \u001b[38;5;28mself\u001b[39m, structure: Structure, bragg_angles: \u001b[38;5;28mdict\u001b[39m[\u001b[38;5;28mtuple\u001b[39m[\u001b[38;5;28mint\u001b[39m, \u001b[38;5;28mint\u001b[39m, \u001b[38;5;28mint\u001b[39m], \u001b[38;5;28mfloat\u001b[39m]\n\u001b[1;32m    264\u001b[0m ) \u001b[38;5;241m-\u001b[39m\u001b[38;5;241m>\u001b[39m \u001b[38;5;28mdict\u001b[39m[\u001b[38;5;28mtuple\u001b[39m[\u001b[38;5;28mint\u001b[39m, \u001b[38;5;28mint\u001b[39m, \u001b[38;5;28mint\u001b[39m], \u001b[38;5;28mfloat\u001b[39m]:\n\u001b[1;32m    265\u001b[0m \u001b[38;5;250m    \u001b[39m\u001b[38;5;124;03m\"\"\"\u001b[39;00m\n\u001b[1;32m    266\u001b[0m \u001b[38;5;124;03m    Calculates cell intensity for each hkl plane. For simplicity's sake, take I = |F|**2.\u001b[39;00m\n\u001b[1;32m    267\u001b[0m \n\u001b[0;32m   (...)\u001b[0m\n\u001b[1;32m    273\u001b[0m \u001b[38;5;124;03m        dict of hkl plane to cell intensity\u001b[39;00m\n\u001b[1;32m    274\u001b[0m \u001b[38;5;124;03m    \"\"\"\u001b[39;00m\n\u001b[0;32m--> 275\u001b[0m     csf \u001b[38;5;241m=\u001b[39m \u001b[38;5;28;43mself\u001b[39;49m\u001b[38;5;241;43m.\u001b[39;49m\u001b[43mcell_scattering_factors\u001b[49m\u001b[43m(\u001b[49m\u001b[43mstructure\u001b[49m\u001b[43m,\u001b[49m\u001b[43m \u001b[49m\u001b[43mbragg_angles\u001b[49m\u001b[43m)\u001b[49m\n\u001b[1;32m    276\u001b[0m     csf_val \u001b[38;5;241m=\u001b[39m np\u001b[38;5;241m.\u001b[39marray(\u001b[38;5;28mlist\u001b[39m(csf\u001b[38;5;241m.\u001b[39mvalues()))\n\u001b[1;32m    277\u001b[0m     cell_intensity_val \u001b[38;5;241m=\u001b[39m (csf_val \u001b[38;5;241m*\u001b[39m csf_val\u001b[38;5;241m.\u001b[39mconjugate())\u001b[38;5;241m.\u001b[39mreal\n",
      "File \u001b[0;32m/opt/miniconda3/envs/crystal_sim/lib/python3.11/site-packages/pymatgen/analysis/diffraction/tem.py:249\u001b[0m, in \u001b[0;36mTEMCalculator.cell_scattering_factors\u001b[0;34m(self, structure, bragg_angles)\u001b[0m\n\u001b[1;32m    238\u001b[0m \u001b[38;5;250m\u001b[39m\u001b[38;5;124;03m\"\"\"\u001b[39;00m\n\u001b[1;32m    239\u001b[0m \u001b[38;5;124;03mCalculates the scattering factor for the whole cell.\u001b[39;00m\n\u001b[1;32m    240\u001b[0m \n\u001b[0;32m   (...)\u001b[0m\n\u001b[1;32m    246\u001b[0m \u001b[38;5;124;03m    dict of hkl plane (3-tuple) to scattering factor (in angstroms).\u001b[39;00m\n\u001b[1;32m    247\u001b[0m \u001b[38;5;124;03m\"\"\"\u001b[39;00m\n\u001b[1;32m    248\u001b[0m cell_scattering_factors \u001b[38;5;241m=\u001b[39m {}\n\u001b[0;32m--> 249\u001b[0m electron_scattering_factors \u001b[38;5;241m=\u001b[39m \u001b[38;5;28;43mself\u001b[39;49m\u001b[38;5;241;43m.\u001b[39;49m\u001b[43melectron_scattering_factors\u001b[49m\u001b[43m(\u001b[49m\u001b[43mstructure\u001b[49m\u001b[43m,\u001b[49m\u001b[43m \u001b[49m\u001b[43mbragg_angles\u001b[49m\u001b[43m)\u001b[49m\n\u001b[1;32m    250\u001b[0m scattering_factor_curr \u001b[38;5;241m=\u001b[39m \u001b[38;5;241m0\u001b[39m\n\u001b[1;32m    251\u001b[0m \u001b[38;5;28;01mfor\u001b[39;00m plane \u001b[38;5;129;01min\u001b[39;00m bragg_angles:\n",
      "File \u001b[0;32m/opt/miniconda3/envs/crystal_sim/lib/python3.11/site-packages/pymatgen/analysis/diffraction/tem.py:222\u001b[0m, in \u001b[0;36mTEMCalculator.electron_scattering_factors\u001b[0;34m(self, structure, bragg_angles)\u001b[0m\n\u001b[1;32m    211\u001b[0m \u001b[38;5;250m\u001b[39m\u001b[38;5;124;03m\"\"\"\u001b[39;00m\n\u001b[1;32m    212\u001b[0m \u001b[38;5;124;03mCalculates atomic scattering factors for electrons using the Mott-Bethe formula (1st order Born approximation).\u001b[39;00m\n\u001b[1;32m    213\u001b[0m \n\u001b[0;32m   (...)\u001b[0m\n\u001b[1;32m    219\u001b[0m \u001b[38;5;124;03m    dict from atomic symbol to another dict of hkl plane to factor (in angstroms)\u001b[39;00m\n\u001b[1;32m    220\u001b[0m \u001b[38;5;124;03m\"\"\"\u001b[39;00m\n\u001b[1;32m    221\u001b[0m electron_scattering_factors \u001b[38;5;241m=\u001b[39m {}\n\u001b[0;32m--> 222\u001b[0m x_ray_factors \u001b[38;5;241m=\u001b[39m \u001b[38;5;28;43mself\u001b[39;49m\u001b[38;5;241;43m.\u001b[39;49m\u001b[43mx_ray_factors\u001b[49m\u001b[43m(\u001b[49m\u001b[43mstructure\u001b[49m\u001b[43m,\u001b[49m\u001b[43m \u001b[49m\u001b[43mbragg_angles\u001b[49m\u001b[43m)\u001b[49m\n\u001b[1;32m    223\u001b[0m s2 \u001b[38;5;241m=\u001b[39m \u001b[38;5;28mself\u001b[39m\u001b[38;5;241m.\u001b[39mget_s2(bragg_angles)\n\u001b[1;32m    224\u001b[0m atoms \u001b[38;5;241m=\u001b[39m structure\u001b[38;5;241m.\u001b[39melements\n",
      "File \u001b[0;32m/opt/miniconda3/envs/crystal_sim/lib/python3.11/site-packages/pymatgen/analysis/diffraction/tem.py:199\u001b[0m, in \u001b[0;36mTEMCalculator.x_ray_factors\u001b[0;34m(self, structure, bragg_angles)\u001b[0m\n\u001b[1;32m    197\u001b[0m coeffs \u001b[38;5;241m=\u001b[39m np\u001b[38;5;241m.\u001b[39marray(ATOMIC_SCATTERING_PARAMS[atom\u001b[38;5;241m.\u001b[39msymbol])\n\u001b[1;32m    198\u001b[0m \u001b[38;5;28;01mfor\u001b[39;00m plane \u001b[38;5;129;01min\u001b[39;00m bragg_angles:\n\u001b[0;32m--> 199\u001b[0m     scattering_factor_curr \u001b[38;5;241m=\u001b[39m atom\u001b[38;5;241m.\u001b[39mZ \u001b[38;5;241m-\u001b[39m \u001b[38;5;241m41.78214\u001b[39m \u001b[38;5;241m*\u001b[39m s2[plane] \u001b[38;5;241m*\u001b[39m \u001b[43mnp\u001b[49m\u001b[38;5;241;43m.\u001b[39;49m\u001b[43msum\u001b[49m\u001b[43m(\u001b[49m\n\u001b[1;32m    200\u001b[0m \u001b[43m        \u001b[49m\u001b[43mcoeffs\u001b[49m\u001b[43m[\u001b[49m\u001b[43m:\u001b[49m\u001b[43m,\u001b[49m\u001b[43m \u001b[49m\u001b[38;5;241;43m0\u001b[39;49m\u001b[43m]\u001b[49m\u001b[43m \u001b[49m\u001b[38;5;241;43m*\u001b[39;49m\u001b[43m \u001b[49m\u001b[43mnp\u001b[49m\u001b[38;5;241;43m.\u001b[39;49m\u001b[43mexp\u001b[49m\u001b[43m(\u001b[49m\u001b[38;5;241;43m-\u001b[39;49m\u001b[43mcoeffs\u001b[49m\u001b[43m[\u001b[49m\u001b[43m:\u001b[49m\u001b[43m,\u001b[49m\u001b[43m \u001b[49m\u001b[38;5;241;43m1\u001b[39;49m\u001b[43m]\u001b[49m\u001b[43m \u001b[49m\u001b[38;5;241;43m*\u001b[39;49m\u001b[43m \u001b[49m\u001b[43ms2\u001b[49m\u001b[43m[\u001b[49m\u001b[43mplane\u001b[49m\u001b[43m]\u001b[49m\u001b[43m)\u001b[49m\u001b[43m,\u001b[49m\n\u001b[1;32m    201\u001b[0m \u001b[43m        \u001b[49m\u001b[43maxis\u001b[49m\u001b[38;5;241;43m=\u001b[39;49m\u001b[38;5;28;43;01mNone\u001b[39;49;00m\u001b[43m,\u001b[49m\u001b[43m  \u001b[49m\u001b[38;5;66;43;03m# type: ignore\u001b[39;49;00m\n\u001b[1;32m    202\u001b[0m \u001b[43m    \u001b[49m\u001b[43m)\u001b[49m\n\u001b[1;32m    203\u001b[0m     scattering_factors_for_atom[plane] \u001b[38;5;241m=\u001b[39m scattering_factor_curr\n\u001b[1;32m    204\u001b[0m x_ray_factors[atom\u001b[38;5;241m.\u001b[39msymbol] \u001b[38;5;241m=\u001b[39m scattering_factors_for_atom\n",
      "File \u001b[0;32m/opt/miniconda3/envs/crystal_sim/lib/python3.11/site-packages/numpy/core/fromnumeric.py:2313\u001b[0m, in \u001b[0;36msum\u001b[0;34m(a, axis, dtype, out, keepdims, initial, where)\u001b[0m\n\u001b[1;32m   2310\u001b[0m         \u001b[38;5;28;01mreturn\u001b[39;00m out\n\u001b[1;32m   2311\u001b[0m     \u001b[38;5;28;01mreturn\u001b[39;00m res\n\u001b[0;32m-> 2313\u001b[0m \u001b[38;5;28;01mreturn\u001b[39;00m \u001b[43m_wrapreduction\u001b[49m\u001b[43m(\u001b[49m\u001b[43ma\u001b[49m\u001b[43m,\u001b[49m\u001b[43m \u001b[49m\u001b[43mnp\u001b[49m\u001b[38;5;241;43m.\u001b[39;49m\u001b[43madd\u001b[49m\u001b[43m,\u001b[49m\u001b[43m \u001b[49m\u001b[38;5;124;43m'\u001b[39;49m\u001b[38;5;124;43msum\u001b[39;49m\u001b[38;5;124;43m'\u001b[39;49m\u001b[43m,\u001b[49m\u001b[43m \u001b[49m\u001b[43maxis\u001b[49m\u001b[43m,\u001b[49m\u001b[43m \u001b[49m\u001b[43mdtype\u001b[49m\u001b[43m,\u001b[49m\u001b[43m \u001b[49m\u001b[43mout\u001b[49m\u001b[43m,\u001b[49m\u001b[43m \u001b[49m\u001b[43mkeepdims\u001b[49m\u001b[38;5;241;43m=\u001b[39;49m\u001b[43mkeepdims\u001b[49m\u001b[43m,\u001b[49m\n\u001b[1;32m   2314\u001b[0m \u001b[43m                      \u001b[49m\u001b[43minitial\u001b[49m\u001b[38;5;241;43m=\u001b[39;49m\u001b[43minitial\u001b[49m\u001b[43m,\u001b[49m\u001b[43m \u001b[49m\u001b[43mwhere\u001b[49m\u001b[38;5;241;43m=\u001b[39;49m\u001b[43mwhere\u001b[49m\u001b[43m)\u001b[49m\n",
      "File \u001b[0;32m/opt/miniconda3/envs/crystal_sim/lib/python3.11/site-packages/numpy/core/fromnumeric.py:88\u001b[0m, in \u001b[0;36m_wrapreduction\u001b[0;34m(obj, ufunc, method, axis, dtype, out, **kwargs)\u001b[0m\n\u001b[1;32m     85\u001b[0m         \u001b[38;5;28;01melse\u001b[39;00m:\n\u001b[1;32m     86\u001b[0m             \u001b[38;5;28;01mreturn\u001b[39;00m reduction(axis\u001b[38;5;241m=\u001b[39maxis, out\u001b[38;5;241m=\u001b[39mout, \u001b[38;5;241m*\u001b[39m\u001b[38;5;241m*\u001b[39mpasskwargs)\n\u001b[0;32m---> 88\u001b[0m \u001b[38;5;28;01mreturn\u001b[39;00m \u001b[43mufunc\u001b[49m\u001b[38;5;241;43m.\u001b[39;49m\u001b[43mreduce\u001b[49m\u001b[43m(\u001b[49m\u001b[43mobj\u001b[49m\u001b[43m,\u001b[49m\u001b[43m \u001b[49m\u001b[43maxis\u001b[49m\u001b[43m,\u001b[49m\u001b[43m \u001b[49m\u001b[43mdtype\u001b[49m\u001b[43m,\u001b[49m\u001b[43m \u001b[49m\u001b[43mout\u001b[49m\u001b[43m,\u001b[49m\u001b[43m \u001b[49m\u001b[38;5;241;43m*\u001b[39;49m\u001b[38;5;241;43m*\u001b[39;49m\u001b[43mpasskwargs\u001b[49m\u001b[43m)\u001b[49m\n",
      "\u001b[0;31mKeyboardInterrupt\u001b[0m: "
     ]
    }
   ],
   "source": [
    "import os\n",
    "import numpy as np\n",
    "import preprocessing as pp\n",
    "from joblib import dump, load\n",
    "import time\n",
    "\n",
    "\n",
    "def preprocessing(directions: list, api_key: str, crystal_system: str, base_dir: str, folder_dir: str, txt_filename: str = None, min_size: int = None):\n",
    "    start = time.time()\n",
    "    if txt_filename:\n",
    "        filename = os.path.join(base_dir, txt_filename)\n",
    "\n",
    "        preproc = pp.save_data(\n",
    "                    pp.get_preprocessed_data(\n",
    "                        pp.get_crystals_from_file(\n",
    "                            filename=filename,\n",
    "                            api_key=api_key\n",
    "                            ),\n",
    "                        directions,\n",
    "                        plot=True,\n",
    "                        vectors=True\n",
    "                        ),\n",
    "                    base_dir=base_dir,\n",
    "                    new_dir=folder_dir\n",
    "                    )\n",
    "        print(f\">> Time to preprocess: {round(time.time() - start, 2)} s\")\n",
    "        return preproc\n",
    "    else:\n",
    "        print(\"Hi from preprocessing\")\n",
    "        preproc = pp.save_data(\n",
    "                    pp.get_preprocessed_data(\n",
    "                        pp.get_crystal_info(\n",
    "                            pp.retrieve_crystals_from_api(\n",
    "                                api_key=api_key, \n",
    "                                crystal_system=crystal_system, \n",
    "                                base_dir=base_dir,\n",
    "                                write=False,\n",
    "                                min_size=min_size\n",
    "                                ),\n",
    "                            ), \n",
    "                        directions,\n",
    "                        plot=False,\n",
    "                        vectors=True\n",
    "                        ),\n",
    "                    base_dir=base_dir, \n",
    "                    new_dir=folder_dir\n",
    "                    )\n",
    "        \n",
    "        print(f\">> Time to preprocess: {round(time.time() - start, 2)} s\")\n",
    "        return preproc\n",
    "\n",
    "\n",
    "\n",
    "key = 'MKc7ImqWWraesSOgZw5qy1pwY5pi3Djr'\n",
    "upper = 2\n",
    "base_dir = '/Users/jonathanchoi/Desktop/GitHub Projects/crystal_sim/'\n",
    "directions = pp.get_cartesian_beam_directions(upper)\n",
    "directions = np.delete(directions, 3, axis=0)\n",
    "print(directions)\n",
    "\n",
    "\n",
    "\n",
    "# test for from txt_filename\n",
    "preprocessing(directions=directions, api_key=key, crystal_system=\"Cubic\", base_dir=base_dir, folder_dir=\"cubic_F_225_v2\",min_size=1500)"
   ]
  },
  {
   "cell_type": "code",
   "execution_count": null,
   "metadata": {},
   "outputs": [],
   "source": []
  },
  {
   "cell_type": "code",
   "execution_count": 5,
   "metadata": {},
   "outputs": [
    {
     "name": "stdout",
     "output_type": "stream",
     "text": [
      ">> Retrieving: cubic_F_225_v2_regression_1500.joblib\n",
      ">> Retrieving: cubic_F_225_v2_labels_classification_bravais_2.joblib\n",
      ">> Retrieving: cubic_F_225_v2_material_ids1500.joblib\n",
      ">> Retrieving: cubic_F_225_v2_features_2.joblib\n",
      ">> Retrieving: cubic_F_225_v2_labels_classification_space_2.joblib\n",
      ">> Retrieving: cubic_F_225_v2_labels_classification_system_2.joblib\n",
      ">> Retrieving: cubic_F_225_v2_material_ids2.joblib\n",
      ">> Retrieving: cubic_F_225_v2_labels_classification_system_1500.joblib\n",
      ">> Retrieving: cubic_F_225_v2_labels_classification_bravais_1500.joblib\n",
      ">> Retrieving: cubic_F_225_v2_features_1500.joblib\n",
      ">> Retrieving: cubic_F_225_v2_regression_2.joblib\n",
      ">> Retrieving: cubic_F_225_v2_labels_classification_space_1500.joblib\n",
      ">> Sanity Check: printing element(s) 1 of 1500 from each array\n",
      "\n",
      "[[3.43, 3.43, 3.43, 60.0, 60.0, 60.0]]\n",
      "['F']\n",
      "[(MPID(mp-1008785), 'RuO2')]\n",
      "[[4.618, 3.265, 4.618, 3.265, 6.531, 0.785, 0.786, 0.785, 0.0, 4.618, 5.656, 3.266, 6.531, 5.656, 0.616, 0.955, 0.0, 0.955, 4.618, 3.265, 6.531, 4.618, 3.265, 0.785, 0.0, 0.786, 0.785, 4.618, 5.656, 3.266, 6.531, 5.656, 0.616, 0.955, 0.0, 0.955, 4.618, 5.656, 3.266, 6.531, 5.656, 0.616, 0.955, 0.0, 0.955, 4.618, 3.265, 6.531, 4.618, 3.265, 0.785, 0.0, 0.786, 0.785]]\n",
      "[225]\n",
      "['Cubic']\n",
      "[(MPID(mp-1008277), 'CrCo2As')]\n",
      "['Cubic']\n",
      "['F']\n",
      "[[5.502, 3.891, 7.781, 5.502, 3.891, 0.785, 0.0, 0.786, 0.785, 5.502, 4.562, 2.383, 3.891, 2.383, 0.44, 0.515, 0.616, 0.616, 5.502, 3.891, 7.781, 5.502, 3.891, 0.785, 0.0, 0.786, 0.785, 5.502, 4.562, 2.383, 3.891, 2.383, 0.44, 0.515, 0.616, 0.616, 5.502, 2.383, 3.891, 2.383, 5.502, 0.955, 0.616, 0.616, 0.955, 5.502, 3.891, 7.781, 5.502, 3.891, 0.785, 0.0, 0.786, 0.785]]\n",
      "[[4.09, 4.09, 4.09, 60.0, 60.0, 60.0]]\n",
      "[225]\n"
     ]
    }
   ],
   "source": [
    "store = '/Users/jonathanchoi/Desktop/GitHub Projects/crystal_sim/preprocessed_data/cubic_F_225_v2'\n",
    "\n",
    "\n",
    "data_list = pp.load_data(store)"
   ]
  },
  {
   "cell_type": "code",
   "execution_count": null,
   "metadata": {},
   "outputs": [],
   "source": [
    "from pymatgen.analysis.diffraction.tem import TEMCalculator\n",
    "from pymatgen.core.structure import Structure\n",
    "from pymatgen.symmetry.analyzer import SpacegroupAnalyzer\n",
    "from mp_api.client import MPRester\n",
    "\n",
    "import matplotlib.pyplot as plt\n",
    "import pandas as pd\n",
    "import numpy as np\n",
    "import math as m\n",
    "from decimal import Decimal, ROUND_HALF_UP\n",
    "\n",
    "    \n",
    "with MPRester(api_key=api_key) as mpr:\n",
    "    crystals = mpr.materials.search(\n",
    "        # elements=[\"Si\", \"O\"], # for testing only\n",
    "        spacegroup_number = 225,\n",
    "        crystal_system=[crystal_system.capitalize()],\n",
    "        fields=['material_id', 'symmetry']\n",
    "    )"
   ]
  }
 ],
 "metadata": {
  "kernelspec": {
   "display_name": "finance",
   "language": "python",
   "name": "python3"
  },
  "language_info": {
   "codemirror_mode": {
    "name": "ipython",
    "version": 3
   },
   "file_extension": ".py",
   "mimetype": "text/x-python",
   "name": "python",
   "nbconvert_exporter": "python",
   "pygments_lexer": "ipython3",
   "version": "3.11.9"
  }
 },
 "nbformat": 4,
 "nbformat_minor": 2
}
