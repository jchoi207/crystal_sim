{
 "cells": [
  {
   "cell_type": "markdown",
   "metadata": {},
   "source": [
    "### Imports"
   ]
  },
  {
   "cell_type": "code",
   "execution_count": 2,
   "metadata": {},
   "outputs": [
    {
     "name": "stderr",
     "output_type": "stream",
     "text": [
      "/opt/miniconda3/envs/crystal_sim/lib/python3.11/site-packages/tqdm/auto.py:21: TqdmWarning: IProgress not found. Please update jupyter and ipywidgets. See https://ipywidgets.readthedocs.io/en/stable/user_install.html\n",
      "  from .autonotebook import tqdm as notebook_tqdm\n"
     ]
    }
   ],
   "source": [
    "import os\n",
    "import numpy as np\n",
    "import preprocessing as pp\n",
    "from joblib import dump, load\n",
    "import time"
   ]
  },
  {
   "cell_type": "markdown",
   "metadata": {},
   "source": [
    "## Preprocessing from .txt file\n",
    "- If you would like to use a .txt file with specific mp-ids, you can use the following code to preprocess the data.\n"
   ]
  },
  {
   "cell_type": "code",
   "execution_count": 3,
   "metadata": {},
   "outputs": [],
   "source": [
    "def preprocessing(directions: list, api_key: str, crystal_system: str, base_dir: str, folder_dir: str, txt_filename: str = None, min_size: int = None):\n",
    "    start = time.time()\n",
    "    if txt_filename:\n",
    "        filename = os.path.join(base_dir, txt_filename)\n",
    "\n",
    "        preproc = pp.save_data(\n",
    "                    pp.get_preprocessed_data(\n",
    "                        pp.get_crystals_from_file(\n",
    "                            filename=filename,\n",
    "                            api_key=api_key\n",
    "                            ),\n",
    "                        directions,\n",
    "                        plot=False,\n",
    "                        vectors=True\n",
    "                        ),\n",
    "                    base_dir=base_dir,\n",
    "                    new_dir=folder_dir\n",
    "                    )\n",
    "        print(f\">> Time to preprocess: {round(time.time() - start, 2)} s\")\n",
    "        return preproc\n",
    "    else:\n",
    "        preproc = pp.save_data(\n",
    "                    pp.get_preprocessed_data(\n",
    "                        pp.get_crystal_info(\n",
    "                            pp.retrieve_crystals_from_api(\n",
    "                                api_key=key, \n",
    "                                crystal_system=crystal_system, \n",
    "                                base_dir=base_dir,\n",
    "                                write=False,\n",
    "                                min_size=min_size\n",
    "                                ),\n",
    "                            ), \n",
    "                        directions,\n",
    "                        plot=False,\n",
    "                        vectors=True\n",
    "                        ),\n",
    "                    base_dir=base_dir, \n",
    "                    new_dir=folder_dir\n",
    "                    )\n",
    "        \n",
    "        print(f\">> Time to preprocess: {round(time.time() - start, 2)} s\")\n",
    "        return preproc\n"
   ]
  },
  {
   "cell_type": "code",
   "execution_count": 4,
   "metadata": {},
   "outputs": [
    {
     "name": "stderr",
     "output_type": "stream",
     "text": [
      "Retrieving MaterialsDoc documents: 100%|██████████| 2/2 [00:00<00:00, 16677.15it/s]\n"
     ]
    },
    {
     "name": "stdout",
     "output_type": "stream",
     "text": [
      "_________________0% complete_________________\n",
      ">> Crystal No.0: (MPID(mp-866107), 'Ac2IrPd') \n",
      ">> Time elapsed: 0.001 s\n",
      ">> Time diff: 0.001 s\n",
      "___________________________________\n",
      ">> Total time elapsed: 1.868 s\n",
      ">> 100% complete\n",
      "______________________________________________________________________\n",
      "\n",
      ">> Sanity Check: printing the first element from each array\n",
      "\n",
      "[[3.571, 2.526, 3.571, 2.526, 5.05, 0.785, 0.786, 0.785, 0.0, 3.571, 4.374, 2.525, 5.05, 4.374, 0.615, 0.956, 0.0, 0.955, 3.571, 2.526, 3.571, 2.526, 3.571, 0.785, 0.786, 0.785, 0.786, 3.571, 4.374, 2.525, 5.05, 4.374, 0.615, 0.956, 0.0, 0.955, 3.571, 4.374, 2.525, 5.05, 4.374, 0.615, 0.956, 0.0, 0.955, 3.571, 2.526, 3.571, 2.526, 3.571, 0.785, 0.786, 0.785, 0.786]]\n",
      "[[5.29, 5.29, 5.29, 60.0, 60.0, 60.0]]\n",
      "[225]\n",
      "['F']\n",
      "['Cubic']\n",
      "[(MPID(mp-866107), 'Ac2IrPd')]\n",
      ">> All files saved to: /Users/jonathanchoi/Desktop/GitHub Projects/crystal_sim/test_3_key_path\n",
      ">> Time to preprocess: 5.79 s\n"
     ]
    },
    {
     "data": {
      "text/plain": [
       "'/Users/jonathanchoi/Desktop/GitHub Projects/crystal_sim/test_3_key_path'"
      ]
     },
     "execution_count": 4,
     "metadata": {},
     "output_type": "execute_result"
    }
   ],
   "source": [
    "key = 'MKc7ImqWWraesSOgZw5qy1pwY5pi3Djr'\n",
    "upper = 2\n",
    "relative_path = 'raw_data/test.txt'\n",
    "base_dir = '/Users/jonathanchoi/Desktop/GitHub Projects/crystal_sim/'\n",
    "directions = pp.get_cartesian_beam_directions(upper)\n",
    "directions = np.delete(directions, 3, axis=0)\n",
    "\n",
    "\n",
    "# test for from txt_filename\n",
    "preprocessing(directions=directions, api_key=key, crystal_system=\"Cubic\", base_dir=base_dir, folder_dir=\"test_3\",txt_filename='raw_data/test.txt')"
   ]
  },
  {
   "cell_type": "code",
   "execution_count": 11,
   "metadata": {},
   "outputs": [
    {
     "data": {
      "text/plain": [
       "1"
      ]
     },
     "execution_count": 11,
     "metadata": {},
     "output_type": "execute_result"
    }
   ],
   "source": [
    "10//10"
   ]
  }
 ],
 "metadata": {
  "kernelspec": {
   "display_name": "finance",
   "language": "python",
   "name": "python3"
  },
  "language_info": {
   "codemirror_mode": {
    "name": "ipython",
    "version": 3
   },
   "file_extension": ".py",
   "mimetype": "text/x-python",
   "name": "python",
   "nbconvert_exporter": "python",
   "pygments_lexer": "ipython3",
   "version": "3.11.9"
  }
 },
 "nbformat": 4,
 "nbformat_minor": 2
}
