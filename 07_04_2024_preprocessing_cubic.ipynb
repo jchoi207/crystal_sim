{
 "cells": [
  {
   "cell_type": "markdown",
   "metadata": {},
   "source": [
    "### Imports"
   ]
  },
  {
   "cell_type": "code",
   "execution_count": 2,
   "metadata": {},
   "outputs": [
    {
     "name": "stderr",
     "output_type": "stream",
     "text": [
      "/opt/miniconda3/envs/crystal_sim/lib/python3.11/site-packages/tqdm/auto.py:21: TqdmWarning: IProgress not found. Please update jupyter and ipywidgets. See https://ipywidgets.readthedocs.io/en/stable/user_install.html\n",
      "  from .autonotebook import tqdm as notebook_tqdm\n"
     ]
    }
   ],
   "source": [
    "import os\n",
    "import numpy as np\n",
    "import preprocessing as pp\n"
   ]
  },
  {
   "cell_type": "markdown",
   "metadata": {},
   "source": [
    "### Preprocessing from .txt file"
   ]
  },
  {
   "cell_type": "code",
   "execution_count": 3,
   "metadata": {},
   "outputs": [
    {
     "name": "stderr",
     "output_type": "stream",
     "text": [
      "Retrieving MaterialsDoc documents: 100%|██████████| 432/432 [00:00<00:00, 3759210.22it/s]\n"
     ]
    },
    {
     "name": "stdout",
     "output_type": "stream",
     "text": [
      "_________________0% complete_________________\n",
      "Time elapsed: 0.001 s\n",
      "Time diff: 0.001 s\n",
      "0: (MPID(mp-1006278), 'AcEuAu2') \n",
      "_________________5% complete_________________\n",
      "Time elapsed: 19.591 s\n",
      "Time diff: 19.59 s\n",
      "25: (MPID(mp-1183074), 'Ac2MgGa') \n",
      "_________________11% complete_________________\n",
      "Time elapsed: 38.55 s\n",
      "Time diff: 18.959 s\n",
      "50: (MPID(mp-5778), 'AlVFe2') \n",
      "_________________17% complete_________________\n",
      "Time elapsed: 57.066 s\n",
      "Time diff: 18.515 s\n",
      "75: (MPID(mp-865398), 'Ac2ZnIr') \n",
      "_________________23% complete_________________\n",
      "Time elapsed: 74.108 s\n",
      "Time diff: 17.041 s\n",
      "100: (MPID(mp-983587), 'Ac2NiGe') \n",
      "_________________28% complete_________________\n",
      "Time elapsed: 94.779 s\n",
      "Time diff: 20.67 s\n",
      "125: (MPID(mp-1183581), 'CaTmHg2') \n",
      "_________________34% complete_________________\n",
      "Time elapsed: 115.12 s\n",
      "Time diff: 20.34 s\n",
      "150: (MPID(mp-13800), 'Cs2NaTlF6') \n",
      "_________________40% complete_________________\n",
      "Time elapsed: 134.861 s\n",
      "Time diff: 19.742 s\n",
      "175: (MPID(mp-641575), 'Cr21(WC3)2') \n",
      "_________________46% complete_________________\n",
      "Time elapsed: 152.92 s\n",
      "Time diff: 18.058 s\n",
      "200: (MPID(mp-866281), 'Er2PdRu') \n",
      "_________________52% complete_________________\n",
      "Time elapsed: 172.683 s\n",
      "Time diff: 19.762 s\n",
      "225: (MPID(mp-1110979), 'Cs2NaSbF6') \n",
      "_________________57% complete_________________\n",
      "Time elapsed: 194.318 s\n",
      "Time diff: 21.635 s\n",
      "250: (MPID(mp-1183894), 'Eu2MgSn') \n",
      "_________________63% complete_________________\n",
      "Time elapsed: 213.377 s\n",
      "Time diff: 19.059 s\n",
      "275: (MPID(mp-1207126), 'Sr2GaOsO6') \n",
      "_________________69% complete_________________\n",
      "Time elapsed: 235.036 s\n",
      "Time diff: 21.659 s\n",
      "300: (MPID(mp-864970), 'MnSiTc2') \n",
      "_________________75% complete_________________\n",
      "Time elapsed: 252.337 s\n",
      "Time diff: 17.301 s\n",
      "325: (MPID(mp-1110566), 'Cs2NaAsBr6') \n",
      "_________________81% complete_________________\n",
      "Time elapsed: 271.387 s\n",
      "Time diff: 19.05 s\n",
      "350: (MPID(mp-1192814), 'Ce3(Si3Pd10)2') \n",
      "_________________86% complete_________________\n",
      "Time elapsed: 296.101 s\n",
      "Time diff: 24.713 s\n",
      "375: (MPID(mp-24092), 'GdH2') \n",
      "_________________92% complete_________________\n",
      "Time elapsed: 316.768 s\n",
      "Time diff: 20.667 s\n",
      "400: (MPID(mp-863249), 'GdGaRh2') \n",
      "_________________98% complete_________________\n",
      "Time elapsed: 336.054 s\n",
      "Time diff: 19.286 s\n",
      "425: (MPID(mp-977407), 'Hf2ReRh') \n",
      "___________________________________\n",
      "Time elapsed: 341.876 s\n",
      "100% complete\n",
      "______________________________________________________________________\n"
     ]
    }
   ],
   "source": [
    "key = 'MKc7ImqWWraesSOgZw5qy1pwY5pi3Djr'\n",
    "upper = 2\n",
    "local_filename = '225_cubic.txt'\n",
    "path = '/Users/jonathanchoi/Desktop/GitHub Projects/crystal_sim/material_ids'\n",
    "\n",
    "filename = os.path.join(path, local_filename) \n",
    "\n",
    "directions = pp.get_cartesian_beam_directions(upper)\n",
    "directions = np.delete(directions, 3, axis=0)\n",
    "\n",
    "crystal, system, ids = pp.get_crystals_from_file(filename=filename, api_key=key)\n",
    "features, labels_regression, labels_classification, materials = pp.get_preprocessed_data(\n",
    "    crystal, system, ids, directions, plot=False, vectors=True)"
   ]
  },
  {
   "cell_type": "markdown",
   "metadata": {},
   "source": [
    "### Sanity Check"
   ]
  },
  {
   "cell_type": "code",
   "execution_count": 10,
   "metadata": {},
   "outputs": [
    {
     "name": "stdout",
     "output_type": "stream",
     "text": [
      "False\n",
      "[3.5, 2.475, 3.5, 2.475, 3.5, 0.785, 0.786, 0.785, 0.786, 3.5, 4.287, 2.475, 4.95, 4.287, 0.616, 0.955, 0.0, 0.955, 3.5, 2.475, 3.5, 2.475, 4.95, 0.785, 0.786, 0.785, 0.0, 3.5, 4.287, 2.475, 4.95, 4.287, 0.616, 0.955, 0.0, 0.955, 3.5, 4.287, 2.475, 4.95, 4.287, 0.616, 0.955, 0.0, 0.955, 3.5, 2.475, 3.5, 2.475, 4.95, 0.785, 0.786, 0.785, 0.0]\n",
      "[5.4, 5.4, 5.4, 60.0, 60.0, 60.0]\n",
      "Cubic\n",
      "(MPID(mp-1006278), 'AcEuAu2')\n"
     ]
    }
   ],
   "source": [
    "print(np.nan in features)\n",
    "\n",
    "for i in [features[0], labels_regression[0], labels_classification[0], materials[0]]:\n",
    "    print(i)"
   ]
  },
  {
   "cell_type": "markdown",
   "metadata": {},
   "source": [
    "## Dump and Save data for future use"
   ]
  },
  {
   "cell_type": "code",
   "execution_count": 33,
   "metadata": {},
   "outputs": [],
   "source": [
    "def save_data(features, labels_regression, labels_classification, material_ids, header):\n",
    "    \n",
    "    l = [features, labels_regression, labels_classification, material_ids]\n",
    "    # base_dir = '/Users/jonathanchoi/Desktop/Summer 2024/Research/crystal simulation 2/preprocessed files'\n",
    "    new_folder = os.path.join(base_dir, 'preprocessed files', f\"{header}_preprocessed\")\n",
    "    if not os.path.exists(new_folder):\n",
    "        os.makedirs(new_folder)\n",
    "\n",
    "    length = len(material_ids)\n",
    "    \n",
    "    filenames = [\n",
    "        \n",
    "        os.path.join(new_folder, f\"{header}_features_{length}.joblib\"),\n",
    "        os.path.join(new_folder, f\"{header}_regression_{length}.joblib\"),\n",
    "        os.path.join(new_folder, f\"{header}_labels_classification_{length}.joblib\"),\n",
    "        os.path.join(new_folder, f\"{header}_material_ids{length}.joblib\"),\n",
    "        \n",
    "        # f\"{header}_features_{length}.joblib\", \n",
    "        # f\"{header}_regression_{length}.joblib\", \n",
    "        # f\"{header}_labels_classification_{length}.joblib\", \n",
    "        # f\"{header}_material_ids{length}.joblib\"\n",
    "        ]\n",
    "    \n",
    "    for i in range(len(l)):\n",
    "        dump(l[i], filenames[i])\n",
    "        \n",
    "    dump(filenames, f\"{header}_filenames\")\n",
    "    print(filenames)\n",
    "    print(os.path.abspath(f\"{header}_filenames\"))\n",
    "    return os.path.abspath(f\"{header}_filenames\")\n",
    "\n",
    "def load_data(path):\n",
    "    filenames = load(path)\n",
    "    \n",
    "    data_list = []\n",
    "    for filename in filenames:\n",
    "        data_list.append(load(filename))\n",
    "    return data_list"
   ]
  },
  {
   "cell_type": "code",
   "execution_count": 36,
   "metadata": {},
   "outputs": [
    {
     "name": "stdout",
     "output_type": "stream",
     "text": [
      "['/Users/jonathanchoi/Desktop/Summer 2024/Research/crystal simulation 2/preprocessed files/F225_cubic_preprocessed/F225_cubic_features_440.joblib', '/Users/jonathanchoi/Desktop/Summer 2024/Research/crystal simulation 2/preprocessed files/F225_cubic_preprocessed/F225_cubic_regression_440.joblib', '/Users/jonathanchoi/Desktop/Summer 2024/Research/crystal simulation 2/preprocessed files/F225_cubic_preprocessed/F225_cubic_labels_classification_440.joblib', '/Users/jonathanchoi/Desktop/Summer 2024/Research/crystal simulation 2/preprocessed files/F225_cubic_preprocessed/F225_cubic_material_ids440.joblib']\n",
      "/Users/jonathanchoi/Desktop/Summer 2024/Research/crystal simulation 2/x_cubic/F225_cubic_filenames\n",
      "440\n",
      "54\n",
      "[5.4, 5.4, 5.4, 60.0, 60.0, 60.0]\n",
      "Cubic\n",
      "(MPID(mp-1006278), 'AcEuAu2')\n"
     ]
    }
   ],
   "source": [
    "my_files = save_data(features, labels_regression, labels_classification, materials, header = \"F225_cubic\")\n",
    "\n",
    "my_loaded_data = load_data(my_files)\n",
    "\n",
    "print(len(my_loaded_data[0]))\n",
    "print(len(my_loaded_data[0][0]))\n",
    "print(my_loaded_data[1][0])\n",
    "print(my_loaded_data[2][0])\n",
    "print(my_loaded_data[3][0])"
   ]
  }
 ],
 "metadata": {
  "kernelspec": {
   "display_name": "finance",
   "language": "python",
   "name": "python3"
  },
  "language_info": {
   "codemirror_mode": {
    "name": "ipython",
    "version": 3
   },
   "file_extension": ".py",
   "mimetype": "text/x-python",
   "name": "python",
   "nbconvert_exporter": "python",
   "pygments_lexer": "ipython3",
   "version": "3.11.9"
  }
 },
 "nbformat": 4,
 "nbformat_minor": 2
}
