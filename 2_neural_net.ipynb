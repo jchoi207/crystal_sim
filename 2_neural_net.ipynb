{
 "cells": [
  {
   "cell_type": "markdown",
   "metadata": {},
   "source": [
    "## Imports"
   ]
  },
  {
   "cell_type": "code",
   "execution_count": 77,
   "metadata": {},
   "outputs": [],
   "source": [
    "import torch\n",
    "import torch.nn as nn\n",
    "import torch.nn.functional as F\n",
    "from torch.utils.data import Dataset, DataLoader, TensorDataset\n",
    "import torch.optim as optim\n",
    "import matplotlib.pyplot as plt\n",
    "import time\n",
    "import numpy as np\n",
    "from joblib import dump, load\n",
    "from sklearn.metrics import confusion_matrix\n",
    "import matplotlib.pyplot as plt\n",
    "import seaborn as sns\n",
    "import os\n",
    "import preprocessing as pp"
   ]
  },
  {
   "cell_type": "markdown",
   "metadata": {},
   "source": [
    "## Training Functions"
   ]
  },
  {
   "cell_type": "code",
   "execution_count": null,
   "metadata": {},
   "outputs": [],
   "source": [
    "def dataset_split(features, labels_r, train_size=0.7, val_size=0.15):\n",
    "\n",
    "    features_tensor = torch.tensor(features, dtype=torch.float32)\n",
    "    labels_r_tensor = torch.tensor(labels_r, dtype=torch.float32)\n",
    "    # labels_c_tensor = torch.tensor(labels_c, dtype=torch.float32)\n",
    "    \n",
    "\n",
    "    # Combine features and labels into a custom Dataset\n",
    "\n",
    "    dataset = TensorDataset(features_tensor, labels_r_tensor)\n",
    "    \n",
    "\n",
    "    length = len(dataset)\n",
    "    train_len = int(length * train_size)\n",
    "    val_len = int(length * val_size)\n",
    "    test_len = length - train_len - val_len\n",
    "\n",
    "    train_data, val_data, test_data = torch.utils.data.random_split(\n",
    "        dataset, [train_len, val_len, test_len])\n",
    "\n",
    "    print(train_data)\n",
    "    return train_data, val_data, test_data\n",
    "\n",
    "\n",
    "def get_model_name(name, batch_size, learning_rate, epoch):\n",
    "    path = \"model_{0}_bs{1}_lr{2}_epoch{3}\".format(name,\n",
    "                                                   batch_size,\n",
    "                                                   learning_rate,\n",
    "                                                   epoch)\n",
    "    return path\n",
    "\n",
    "\n",
    "def plot_training_curve(train_loss, val_loss, train_accuracy, val_accuracy):\n",
    "    plt.title(\"Train vs Validation Loss\")\n",
    "    plt.plot(train_loss, label=\"Train\")\n",
    "    plt.plot(val_loss, label=\"Validation\")\n",
    "    plt.xlabel(\"Epoch\")\n",
    "    plt.ylabel(\"Loss\")\n",
    "    plt.legend(loc='best')\n",
    "    plt.show()\n",
    "\n",
    "    if train_accuracy != None: \n",
    "        plt.title(\"Train vs Validation Accuracy\")\n",
    "        plt.plot(train_accuracy, label=\"Train\")\n",
    "        plt.plot(val_accuracy, label=\"Validation\")\n",
    "        plt.xlabel(\"Epoch\")\n",
    "        plt.ylabel(\"Loss\")\n",
    "        plt.legend(loc='best')\n",
    "        plt.show()\n",
    "        \n",
    "        "
   ]
  },
  {
   "cell_type": "markdown",
   "metadata": {},
   "source": [
    "## Regression Neural Net"
   ]
  },
  {
   "cell_type": "code",
   "execution_count": 79,
   "metadata": {},
   "outputs": [],
   "source": [
    "def train_regression(model, train_data, val_data, batch_size=64, learning_rate=0.01, num_epochs=30, checkpoints=True, plot=True):\n",
    "\n",
    "    torch.manual_seed(1)\n",
    "\n",
    "    train_loader = torch.utils.data.DataLoader(\n",
    "        train_data, batch_size, shuffle=True)\n",
    "    val_loader = torch.utils.data.DataLoader(\n",
    "        val_data, batch_size, shuffle=True)\n",
    "\n",
    "    criterion = nn.MSELoss()\n",
    "    optimizer = optim.AdamW(model.parameters(), lr=learning_rate)\n",
    "\n",
    "    train_losses = []\n",
    "    val_losses = []\n",
    "\n",
    "    start = time.time()\n",
    "\n",
    "    for epoch in range(num_epochs):\n",
    "        train_loss = 0.0\n",
    "\n",
    "        for inputs, labels in train_loader:\n",
    "            outputs = model(inputs)\n",
    "\n",
    "            loss = criterion(outputs, labels)\n",
    "            train_loss += loss.item()\n",
    "\n",
    "            loss.backward()\n",
    "            optimizer.step()\n",
    "            optimizer.zero_grad()\n",
    "\n",
    "        train_loss /= len(train_loader)\n",
    "        train_losses.append(train_loss)\n",
    "\n",
    "        with torch.no_grad():\n",
    "            model.eval()\n",
    "            val_loss = 0.0\n",
    "\n",
    "            for inputs, labels in val_loader:\n",
    "                outputs = model(inputs)\n",
    "                loss = criterion(outputs, labels)\n",
    "\n",
    "                val_loss += loss.item()\n",
    "            val_loss /= len(val_loader)\n",
    "\n",
    "            val_losses.append(val_loss)\n",
    "\n",
    "        # scheduler.step(val_loss)\n",
    "\n",
    "        if checkpoints:\n",
    "            print(f\"_______________________Epoch {epoch + 1}_______________________\")\n",
    "\n",
    "            print(\"Train loss: {} | Validation loss: {} \".format(\n",
    "                train_losses[epoch],\n",
    "                val_losses[epoch]\n",
    "            ))\n",
    "            # print(\"Train acc: {} | Validation acc: {} \".format(\n",
    "            #     train_accuracies[epoch],\n",
    "            #     val_accuracies[epoch]\n",
    "            # ))\n",
    "\n",
    "    if not checkpoints:\n",
    "        print(f\"_______________________Epoch {num_epochs}_______________________\")\n",
    "\n",
    "        print(\"Train loss: {} | Validation loss: {} \".format(\n",
    "            train_losses[num_epochs-1],\n",
    "            val_losses[num_epochs-1]\n",
    "        ))\n",
    "        # print(\"Train acc: {} | Validation acc: {} \".format(\n",
    "        #     train_accuracies[num_epochs-1],\n",
    "        #     val_accuracies[num_epochs-1]\n",
    "        # ))\n",
    "\n",
    "    print('Finished Training')\n",
    "    elapsed_time = time.time() - start\n",
    "    print(\"Total time elapsed: {:.2f} seconds\".format(elapsed_time))\n",
    "\n",
    "    # make sure to plot the training curves\n",
    "    if plot:\n",
    "        plot_training_curve(train_losses, val_losses, None, None)\n",
    "    return train_loss, val_loss"
   ]
  },
  {
   "cell_type": "markdown",
   "metadata": {},
   "source": [
    "## Classification Neural Net"
   ]
  },
  {
   "cell_type": "code",
   "execution_count": null,
   "metadata": {},
   "outputs": [],
   "source": [
    "def train_regression(model, train_data, val_data, batch_size=64, learning_rate=0.01, num_epochs=30, checkpoints=True, plot=True):\n",
    "    train_accuracies = []\n",
    "    train_losses = []\n",
    "    \n",
    "    val_accuracies = []\n",
    "    val_losses = []\n",
    "    train_loader = DataLoader(train_data, batch_size, shuffle=True)\n",
    "    val_loader = DataLoader(val_data, batch_size, shuffle=True)\n",
    "    \n",
    "    optimizer = optim.AdamW(model.parameters(), lr=learning_rate)\n",
    "    criterion = nn.CrossEntropyLoss()    \n",
    "    \n",
    "    ## train:\n",
    "    \n",
    "    start = time.time()\n",
    "    for epoch in range(num_epochs):\n",
    "        train_loss = 0.0 \n",
    "        train_accuracy = 0.0\n",
    "        \n",
    "        for inputs, labels in train_loader: \n",
    "            outputs = model(inputs)\n",
    "            \n",
    "            loss = criterion(outputs, labels)\n",
    "            train_loss += loss.item()\n",
    "            \n",
    "            _, predicted = torch.max(outputs, 1) ## returns (values, indices). we want to take the indices of the maximum probabilities along the class axis\n",
    "            train_accuracy += (predicted == labels).sum().item()\n",
    "\n",
    "            loss.backward()\n",
    "            optimizer.step()\n",
    "            optimizer.zero_grad()\n",
    "        \n",
    "        train_loss /= len(train_loader)\n",
    "        train_accuracy /= len(train_loader)\n",
    "        \n",
    "        train_losses[epoch] = train_loss\n",
    "        train_accuracies[epoch] = train_accuracies\n",
    "        \n",
    "\n",
    "        with torch.no_grad:\n",
    "            for inputs, labels in val_loader:\n",
    "                outputs = model(inputs)\n",
    "                \n",
    "                loss = criterion(outputs, labels)\n",
    "                val_loss += loss.item()\n",
    "                \n",
    "                _, predicted = torch.max(outputs, 1) \n",
    "                val_accuracy += (predicted == labels).sum().item()\n",
    "\n",
    "                        \n",
    "            val_loss /= len(train_loader)\n",
    "            val_accuracy /= len(train_loader)\n",
    "            \n",
    "            val_losses[epoch] = train_loss\n",
    "            val_accuracies[epoch] = val_accuracy\n",
    "            \n",
    "        \n",
    "        if checkpoints:\n",
    "            print(f\"_______________________Epoch {epoch + 1}_______________________\")\n",
    "\n",
    "            print(\"Train loss: {} | Validation loss: {} \".format(\n",
    "                train_losses[epoch],\n",
    "                val_losses[epoch]\n",
    "            ))\n",
    "            print(\"Train acc: {} | Validation acc: {} \".format(\n",
    "                train_accuracies[epoch],\n",
    "                val_accuracies[epoch]\n",
    "            ))\n",
    "\n",
    "    if not checkpoints:\n",
    "        print(f\"_______________________Epoch {num_epochs}_______________________\")\n",
    "\n",
    "        print(\"Train loss: {} | Validation loss: {} \".format(\n",
    "            train_losses[num_epochs-1],\n",
    "            val_losses[num_epochs-1]\n",
    "        ))\n",
    "        print(\"Train acc: {} | Validation acc: {} \".format(\n",
    "            train_accuracies[num_epochs-1],\n",
    "            val_accuracies[num_epochs-1]\n",
    "        ))\n",
    "\n",
    "    print('Finished Training')\n",
    "    elapsed_time = time.time() - start\n",
    "    print(\"Total time elapsed: {:.2f} seconds\".format(elapsed_time))\n",
    "        \n",
    "    if plot:\n",
    "        plot_training_curve(train_losses, val_losses, train_accuracies, val_accuracies)\n",
    "    "
   ]
  },
  {
   "cell_type": "markdown",
   "metadata": {},
   "source": [
    "## Architecture"
   ]
  },
  {
   "cell_type": "code",
   "execution_count": 80,
   "metadata": {},
   "outputs": [
    {
     "name": "stdout",
     "output_type": "stream",
     "text": [
      "23077\n"
     ]
    }
   ],
   "source": [
    "class my_network(nn.Module):\n",
    "    def __init__(self, sz=[64, 100, 128], inp=54, out=1):\n",
    "        super(my_network, self).__init__()\n",
    "        self.layer_sizes = [inp] + sz + [out]\n",
    "        self.name = \"layer4linear\"\n",
    "\n",
    "        self.fc1 = nn.Linear(inp, sz[0])\n",
    "        self.dropout1 = nn.Dropout(0.5)\n",
    "\n",
    "        self.fc2 = nn.Linear(sz[0], sz[1])\n",
    "        self.dropout2 = nn.Dropout(0.5)\n",
    "\n",
    "        self.fc3 = nn.Linear(sz[1], sz[2])\n",
    "        self.dropout3 = nn.Dropout(0.5)\n",
    "\n",
    "        self.fc4 = nn.Linear(sz[2], out)\n",
    "\n",
    "    def forward(self, x):\n",
    "        x = F.relu(self.fc1(x))\n",
    "        x = self.dropout1(x)\n",
    "\n",
    "        x = F.relu(self.fc2(x))\n",
    "        x = self.dropout2(x)\n",
    "\n",
    "        x = F.relu(self.fc3(x))\n",
    "        x = self.dropout3(x)\n",
    "\n",
    "        x = self.fc4(x)\n",
    "        return x\n",
    "\n",
    "    def get_number_params(self):\n",
    "        num_params = 0\n",
    "        for i in range(len(self.layer_sizes)-1):\n",
    "            num_params += self.layer_sizes[i] * \\\n",
    "                self.layer_sizes[i+1] + self.layer_sizes[i+1]\n",
    "        return num_params\n",
    "\n",
    "test = my_network()\n",
    "print(test.get_number_params())"
   ]
  },
  {
   "cell_type": "markdown",
   "metadata": {},
   "source": [
    "## Loading Data"
   ]
  },
  {
   "cell_type": "code",
   "execution_count": 81,
   "metadata": {},
   "outputs": [
    {
     "name": "stdout",
     "output_type": "stream",
     "text": [
      "Retrieving: /Users/jonathanchoi/Desktop/GitHub Projects/crystal_sim/preprocessed_data/1_F225_cubic/1_F225_cubic_features_432.joblib\n",
      "Retrieving: /Users/jonathanchoi/Desktop/GitHub Projects/crystal_sim/preprocessed_data/1_F225_cubic/1_F225_cubic_regression_432.joblib\n",
      "Retrieving: /Users/jonathanchoi/Desktop/GitHub Projects/crystal_sim/preprocessed_data/1_F225_cubic/1_F225_cubic_labels_classification_space_432.joblib\n",
      "Retrieving: /Users/jonathanchoi/Desktop/GitHub Projects/crystal_sim/preprocessed_data/1_F225_cubic/1_F225_cubic_labels_classification_system_432.joblib\n",
      "Retrieving: /Users/jonathanchoi/Desktop/GitHub Projects/crystal_sim/preprocessed_data/1_F225_cubic/1_F225_cubic_material_ids432.joblib\n"
     ]
    }
   ],
   "source": [
    "my_path = '/Users/jonathanchoi/Desktop/GitHub Projects/crystal_sim/1_F225_cubic_key_path'\n",
    "my_loaded_data = pp.load_data(my_path)"
   ]
  },
  {
   "cell_type": "code",
   "execution_count": 82,
   "metadata": {},
   "outputs": [
    {
     "name": "stdout",
     "output_type": "stream",
     "text": [
      "<torch.utils.data.dataset.Subset object at 0x2a3856d90>\n"
     ]
    }
   ],
   "source": [
    "no_angles_regression = []\n",
    "\n",
    "## Filter through side lengths only\n",
    "for element in my_loaded_data[1]:\n",
    "    no_angles_regression.append(element[:1])\n",
    "\n",
    "train_data, val_data, test_data = dataset_split(\n",
    "    my_loaded_data[0], no_angles_regression)"
   ]
  },
  {
   "cell_type": "markdown",
   "metadata": {},
   "source": [
    "### Sanity Check"
   ]
  },
  {
   "cell_type": "code",
   "execution_count": 63,
   "metadata": {},
   "outputs": [],
   "source": [
    "# for data in my_loaded_data:\n",
    "#     print(data[:1])"
   ]
  },
  {
   "cell_type": "code",
   "execution_count": 64,
   "metadata": {},
   "outputs": [],
   "source": [
    "\n",
    "# for i in range(0, 10): #len(my_loaded_data[0])):\n",
    "#     print(my_loaded_data[2][i])\n",
    "#     print(my_loaded_data[0][i])\n",
    "#     my_loaded_data[0][i].append(my_loaded_data[2][i])\n",
    "#     # print(my_loaded_data[0][i])\n"
   ]
  },
  {
   "cell_type": "code",
   "execution_count": 65,
   "metadata": {},
   "outputs": [],
   "source": [
    "# for i in range(0, 10): #len(my_loaded_data[0])):\n",
    "#     print(my_loaded_data[2][i])\n",
    "#     print(my_loaded_data[0][i])"
   ]
  },
  {
   "cell_type": "markdown",
   "metadata": {},
   "source": [
    "## Training"
   ]
  },
  {
   "cell_type": "code",
   "execution_count": 83,
   "metadata": {},
   "outputs": [
    {
     "name": "stdout",
     "output_type": "stream",
     "text": [
      "_______________________Epoch 40_______________________\n",
      "Train loss: 0.8237770156640756 | Validation loss: 0.9811961408704519 \n",
      "Finished Training\n",
      "Total time elapsed: 0.44 seconds\n"
     ]
    },
    {
     "data": {
      "image/png": "[encoded data removed]",
      "text/plain": [
       "<Figure size 640x480 with 1 Axes>"
      ]
     },
     "metadata": {},
     "output_type": "display_data"
    },
    {
     "data": {
      "text/plain": [
       "(0.8237770156640756, 0.9811961408704519)"
      ]
     },
     "execution_count": 83,
     "metadata": {},
     "output_type": "execute_result"
    }
   ],
   "source": [
    "model = my_network()\n",
    "train(model, train_data, val_data,\n",
    "      batch_size=16, learning_rate=0.0005, num_epochs=40, checkpoints=False)"
   ]
  },
  {
   "cell_type": "code",
   "execution_count": 95,
   "metadata": {},
   "outputs": [
    {
     "name": "stdout",
     "output_type": "stream",
     "text": [
      "Test Loss: 0.06801811402494257\n",
      "GT:  4.06    PD:  6.45    DIFF: -2.39    %DIFF: 58.87%\n",
      "GT:  5.62    PD:  5.52    DIFF:  0.10    %DIFF:  1.78%\n",
      "GT:  6.61    PD:  6.59    DIFF:  0.02    %DIFF:  0.30%\n",
      "GT:  5.70    PD:  5.65    DIFF:  0.05    %DIFF:  0.88%\n",
      "GT:  4.89    PD:  5.08    DIFF: -0.19    %DIFF:  3.89%\n",
      "GT:  6.60    PD:  6.11    DIFF:  0.49    %DIFF:  7.42%\n",
      "GT:  6.53    PD:  6.98    DIFF: -0.45    %DIFF:  6.89%\n",
      "GT:  4.88    PD:  5.22    DIFF: -0.34    %DIFF:  6.97%\n",
      "GT:  4.74    PD:  4.57    DIFF:  0.17    %DIFF:  3.59%\n",
      "GT:  4.58    PD:  4.86    DIFF: -0.28    %DIFF:  6.11%\n",
      "GT:  4.86    PD:  4.79    DIFF:  0.07    %DIFF:  1.44%\n",
      "GT:  5.57    PD:  5.63    DIFF: -0.06    %DIFF:  1.08%\n",
      "GT:  4.49    PD:  4.68    DIFF: -0.19    %DIFF:  4.23%\n",
      "GT:  5.51    PD:  5.57    DIFF: -0.06    %DIFF:  1.09%\n",
      "GT:  5.35    PD:  5.39    DIFF: -0.04    %DIFF:  0.75%\n",
      "GT:  7.99    PD:  8.76    DIFF: -0.77    %DIFF:  9.64%\n",
      "GT:  5.38    PD:  5.00    DIFF:  0.38    %DIFF:  7.06%\n",
      "GT:  7.32    PD:  9.14    DIFF: -1.82    %DIFF: 24.86%\n",
      "GT:  4.14    PD:  4.50    DIFF: -0.36    %DIFF:  8.70%\n",
      "GT:  5.29    PD:  4.96    DIFF:  0.33    %DIFF:  6.24%\n",
      "GT:  4.62    PD:  4.79    DIFF: -0.17    %DIFF:  3.68%\n",
      "GT:  8.38    PD:  6.63    DIFF:  1.75    %DIFF: 20.88%\n",
      "GT:  4.79    PD:  4.99    DIFF: -0.20    %DIFF:  4.18%\n",
      "GT:  5.95    PD:  6.73    DIFF: -0.78    %DIFF: 13.11%\n",
      "GT:  4.60    PD:  4.80    DIFF: -0.20    %DIFF:  4.35%\n",
      "GT:  4.81    PD:  4.80    DIFF:  0.01    %DIFF:  0.21%\n",
      "GT:  5.22    PD:  5.44    DIFF: -0.22    %DIFF:  4.21%\n",
      "GT:  4.53    PD:  4.89    DIFF: -0.36    %DIFF:  7.95%\n",
      "GT:  5.01    PD:  5.09    DIFF: -0.08    %DIFF:  1.60%\n",
      "GT:  8.67    PD:  9.45    DIFF: -0.78    %DIFF:  9.00%\n",
      "GT:  5.16    PD:  5.29    DIFF: -0.13    %DIFF:  2.52%\n",
      "GT:  6.73    PD:  6.85    DIFF: -0.12    %DIFF:  1.78%\n",
      "GT:  5.28    PD:  5.41    DIFF: -0.13    %DIFF:  2.46%\n",
      "GT:  5.50    PD:  5.51    DIFF: -0.01    %DIFF:  0.18%\n",
      "GT:  5.63    PD:  5.67    DIFF: -0.04    %DIFF:  0.71%\n",
      "GT:  5.14    PD:  5.51    DIFF: -0.37    %DIFF:  7.20%\n",
      "GT:  7.68    PD:  8.77    DIFF: -1.09    %DIFF: 14.19%\n",
      "GT:  6.76    PD:  6.62    DIFF:  0.14    %DIFF:  2.07%\n",
      "GT:  7.55    PD:  8.09    DIFF: -0.54    %DIFF:  7.15%\n",
      "GT:  5.13    PD:  5.63    DIFF: -0.50    %DIFF:  9.75%\n",
      "GT:  4.58    PD:  5.12    DIFF: -0.54    %DIFF: 11.79%\n",
      "GT:  6.39    PD:  7.14    DIFF: -0.75    %DIFF: 11.74%\n",
      "GT:  5.39    PD:  5.50    DIFF: -0.11    %DIFF:  2.04%\n",
      "GT:  4.18    PD:  6.75    DIFF: -2.57    %DIFF: 61.48%\n",
      "GT:  4.61    PD:  4.58    DIFF:  0.03    %DIFF:  0.65%\n",
      "GT:  4.64    PD:  4.83    DIFF: -0.19    %DIFF:  4.09%\n",
      "GT:  5.50    PD:  5.73    DIFF: -0.23    %DIFF:  4.18%\n",
      "GT:  5.43    PD:  5.05    DIFF:  0.38    %DIFF:  7.00%\n",
      "GT:  4.33    PD:  4.53    DIFF: -0.20    %DIFF:  4.62%\n",
      "GT:  5.52    PD:  5.88    DIFF: -0.36    %DIFF:  6.52%\n",
      "GT:  3.51    PD:  8.81    DIFF: -5.30    %DIFF: 151.00%\n",
      "GT:  4.08    PD:  4.74    DIFF: -0.66    %DIFF: 16.18%\n",
      "GT:  5.68    PD:  5.64    DIFF:  0.04    %DIFF:  0.70%\n",
      "GT:  5.06    PD:  5.35    DIFF: -0.29    %DIFF:  5.73%\n",
      "GT:  5.31    PD:  5.58    DIFF: -0.27    %DIFF:  5.08%\n",
      "GT:  7.69    PD:  9.17    DIFF: -1.48    %DIFF: 19.25%\n",
      "GT:  6.31    PD:  6.41    DIFF: -0.10    %DIFF:  1.58%\n",
      "GT:  5.40    PD:  5.65    DIFF: -0.25    %DIFF:  4.63%\n",
      "GT:  5.09    PD:  4.76    DIFF:  0.33    %DIFF:  6.48%\n",
      "GT:  7.51    PD:  7.64    DIFF: -0.13    %DIFF:  1.73%\n",
      "GT:  4.13    PD:  4.44    DIFF: -0.31    %DIFF:  7.51%\n",
      "GT:  5.82    PD:  6.86    DIFF: -1.04    %DIFF: 17.87%\n",
      "GT:  5.06    PD:  5.30    DIFF: -0.24    %DIFF:  4.74%\n",
      "GT:  6.41    PD:  6.55    DIFF: -0.14    %DIFF:  2.18%\n",
      "GT:  7.24    PD:  4.93    DIFF:  2.31    %DIFF: 31.91%\n",
      "GT:  4.22    PD:  4.49    DIFF: -0.27    %DIFF:  6.40%\n"
     ]
    }
   ],
   "source": [
    "model.eval()\n",
    "\n",
    "test_loss = 0.0\n",
    "test_loader = torch.utils.data.DataLoader(\n",
    "    test_data, batch_size=32, shuffle=True)\n",
    "criterion = nn.MSELoss()\n",
    "\n",
    "gt_list = []\n",
    "preds_list = []\n",
    "\n",
    "with torch.no_grad():\n",
    "    for i, data in enumerate(test_loader, 0):\n",
    "        inputs, labels = data\n",
    "\n",
    "        outputs = model(inputs)\n",
    "        # print(labels, outputs)\n",
    "        gt_list.append(labels.tolist())\n",
    "        preds_list.append(outputs.tolist())\n",
    "\n",
    "        loss = criterion(outputs, labels)\n",
    "        test_loss += loss.item()\n",
    "test_loss /= len(test_data)\n",
    "print(f'Test Loss: {test_loss}')\n",
    "\n",
    "percent_diffs = []\n",
    "for i in range(len(gt_list)):\n",
    "    for j in range(len(gt_list[i])):\n",
    "        GT = round(gt_list[i][j][0], 2)\n",
    "        PD = round(preds_list[i][j][0], 2)\n",
    "        DIFF = round(GT - PD, 2)\n",
    "        PDIFF = round(abs(GT - PD) / GT * 100, 2)\n",
    "        percent_diffs.append(PDIFF)\n",
    "        \n",
    "        print(f\"GT: {GT:>5.2f}    PD: {PD:>5.2f}    DIFF: {DIFF:>5.2f}    %DIFF: {PDIFF:>5.2f}%\")\n",
    "\n",
    "# Acceptable % difference <= 10%\n",
    "\n",
    "percent_diffs = np.array(percent_diffs)\n",
    "\n",
    "# beam directions \n",
    "# classifications\n",
    "# monoclinic (7 > )\n",
    "# thurs "
   ]
  },
  {
   "cell_type": "code",
   "execution_count": 94,
   "metadata": {},
   "outputs": [
    {
     "name": "stdout",
     "output_type": "stream",
     "text": [
      "Percentage of inacceptable predictions: 19.697%\n",
      "Percentage of acceptable predictions: 80.303%\n",
      "Average percentage difference for acceptable predictions: 4.206%\n"
     ]
    }
   ],
   "source": [
    "print(f\"Percentage of inacceptable predictions: {round(len(percent_diffs[percent_diffs > 10])/len(percent_diffs) * 100, 3)}%\")\n",
    "print(f\"Percentage of acceptable predictions: {round(len(percent_diffs[percent_diffs <= 10])/len(percent_diffs) * 100, 3)}%\")\n",
    "print(f\"Average percentage difference for acceptable predictions: {round(percent_diffs[percent_diffs <= 10].mean(), 3)}%\")"
   ]
  },
  {
   "cell_type": "code",
   "execution_count": 97,
   "metadata": {},
   "outputs": [
    {
     "data": {
      "text/plain": [
       "<matplotlib.legend.Legend at 0x2aa9ef8d0>"
      ]
     },
     "execution_count": 97,
     "metadata": {},
     "output_type": "execute_result"
    },
    {
     "data": {
      "image/png": "[encoded data removed]",
      "text/plain": [
       "<Figure size 640x480 with 1 Axes>"
      ]
     },
     "metadata": {},
     "output_type": "display_data"
    }
   ],
   "source": [
    "plt.title(\"Histogram of Percentage Differences Between G.Ts and Predictions\")\n",
    "plt.grid(zorder=0)\n",
    "plt.hist(percent_diffs, bins=100, zorder=5, color='g')\n",
    "plt.ylim([0,15])\n",
    "plt.vlines(x=10, ymin = 0, ymax = 30, color='k', linestyles='--', zorder=6, label=\"Threshold for Accuracy\")\n",
    "plt.xlabel(\"% Difference\")\n",
    "plt.ylabel(\"Frequency\")\n",
    "plt.legend(loc=\"best\")"
   ]
  }
 ],
 "metadata": {
  "kernelspec": {
   "display_name": "crystal_simulation",
   "language": "python",
   "name": "python3"
  },
  "language_info": {
   "codemirror_mode": {
    "name": "ipython",
    "version": 3
   },
   "file_extension": ".py",
   "mimetype": "text/x-python",
   "name": "python",
   "nbconvert_exporter": "python",
   "pygments_lexer": "ipython3",
   "version": "3.11.9"
  }
 },
 "nbformat": 4,
 "nbformat_minor": 2
}
