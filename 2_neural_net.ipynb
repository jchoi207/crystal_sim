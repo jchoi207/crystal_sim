{
 "cells": [
  {
   "cell_type": "markdown",
   "metadata": {},
   "source": [
    "## Imports"
   ]
  },
  {
   "cell_type": "code",
   "execution_count": 4,
   "metadata": {},
   "outputs": [
    {
     "name": "stderr",
     "output_type": "stream",
     "text": [
      "/opt/miniconda3/envs/crystal_sim/lib/python3.11/site-packages/tqdm/auto.py:21: TqdmWarning: IProgress not found. Please update jupyter and ipywidgets. See https://ipywidgets.readthedocs.io/en/stable/user_install.html\n",
      "  from .autonotebook import tqdm as notebook_tqdm\n"
     ]
    }
   ],
   "source": [
    "import torch\n",
    "import torch.nn as nn\n",
    "import torch.nn.functional as F\n",
    "from torch.utils.data import Dataset, DataLoader, TensorDataset\n",
    "import torch.optim as optim\n",
    "import matplotlib.pyplot as plt\n",
    "import time\n",
    "import numpy as np\n",
    "from joblib import dump, load\n",
    "from sklearn.metrics import confusion_matrix\n",
    "import matplotlib.pyplot as plt\n",
    "import seaborn as sns\n",
    "import os\n",
    "import preprocessing as pp"
   ]
  },
  {
   "cell_type": "markdown",
   "metadata": {},
   "source": [
    "## Training Functions"
   ]
  },
  {
   "cell_type": "code",
   "execution_count": 18,
   "metadata": {},
   "outputs": [],
   "source": [
    "def dataset_split(features, labels_r, labels_c train_size=0.7, val_size=0.15):\n",
    "\n",
    "    features_tensor = torch.tensor(features, dtype=torch.float32)\n",
    "    labels_r_tensor = torch.tensor(labels_r, dtype=torch.float32)\n",
    "    # labels_c_tensor = torch.tensor(labels_c, dtype=torch.float32)\n",
    "    \n",
    "\n",
    "    # Combine features and labels into a custom Dataset\n",
    "\n",
    "    dataset = TensorDataset(features_tensor, labels_r_tensor)\n",
    "    \n",
    "\n",
    "    length = len(dataset)\n",
    "    train_len = int(length * train_size)\n",
    "    val_len = int(length * val_size)\n",
    "    test_len = length - train_len - val_len\n",
    "\n",
    "    train_data, val_data, test_data = torch.utils.data.random_split(\n",
    "        dataset, [train_len, val_len, test_len])\n",
    "\n",
    "    print(train_data)\n",
    "    return train_data, val_data, test_data\n",
    "\n",
    "\n",
    "def get_model_name(name, batch_size, learning_rate, epoch):\n",
    "    path = \"model_{0}_bs{1}_lr{2}_epoch{3}\".format(name,\n",
    "                                                   batch_size,\n",
    "                                                   learning_rate,\n",
    "                                                   epoch)\n",
    "    return path\n",
    "\n",
    "\n",
    "def plot_training_curve(train_loss, val_loss):\n",
    "\n",
    "    plt.title(\"Train vs Validation Loss\")\n",
    "    plt.plot(train_loss, label=\"Train\")\n",
    "    plt.plot(val_loss, label=\"Validation\")\n",
    "    plt.xlabel(\"Epoch\")\n",
    "    plt.ylabel(\"Loss\")\n",
    "    plt.legend(loc='best')\n",
    "    plt.show()\n",
    "\n",
    "\n",
    "def train(model, train_data, val_data, batch_size=64, learning_rate=0.01, num_epochs=30, checkpoints=True, plot=True):\n",
    "\n",
    "    torch.manual_seed(1)\n",
    "\n",
    "    train_loader = torch.utils.data.DataLoader(\n",
    "        train_data, batch_size, shuffle=True)\n",
    "    val_loader = torch.utils.data.DataLoader(\n",
    "        val_data, batch_size, shuffle=True)\n",
    "\n",
    "    criterion = nn.MSELoss()\n",
    "    optimizer = optim.AdamW(model.parameters(), lr=learning_rate)\n",
    "\n",
    "    train_losses = []\n",
    "    val_losses = []\n",
    "\n",
    "    start = time.time()\n",
    "\n",
    "    for epoch in range(num_epochs):\n",
    "        train_loss = 0.0\n",
    "\n",
    "        for inputs, labels in train_loader:\n",
    "            outputs = model(inputs)\n",
    "\n",
    "            loss = criterion(outputs, labels)\n",
    "            train_loss += loss.item()\n",
    "\n",
    "            loss.backward()\n",
    "            optimizer.step()\n",
    "            optimizer.zero_grad()\n",
    "\n",
    "        train_loss /= len(train_loader)\n",
    "        train_losses.append(train_loss)\n",
    "\n",
    "        with torch.no_grad():\n",
    "            model.eval()\n",
    "            val_loss = 0.0\n",
    "\n",
    "            for inputs, labels in val_loader:\n",
    "                outputs = model(inputs)\n",
    "                loss = criterion(outputs, labels)\n",
    "\n",
    "                val_loss += loss.item()\n",
    "            val_loss /= len(val_loader)\n",
    "\n",
    "            val_losses.append(val_loss)\n",
    "\n",
    "        # scheduler.step(val_loss)\n",
    "\n",
    "        if checkpoints:\n",
    "            print(f\"_______________________Epoch {epoch + 1}_______________________\")\n",
    "\n",
    "            print(\"Train loss: {} | Validation loss: {} \".format(\n",
    "                train_losses[epoch],\n",
    "                val_losses[epoch]\n",
    "            ))\n",
    "            # print(\"Train acc: {} | Validation acc: {} \".format(\n",
    "            #     train_accuracies[epoch],\n",
    "            #     val_accuracies[epoch]\n",
    "            # ))\n",
    "\n",
    "    if not checkpoints:\n",
    "        print(f\"_______________________Epoch {num_epochs}_______________________\")\n",
    "\n",
    "        print(\"Train loss: {} | Validation loss: {} \".format(\n",
    "            train_losses[num_epochs-1],\n",
    "            val_losses[num_epochs-1]\n",
    "        ))\n",
    "        # print(\"Train acc: {} | Validation acc: {} \".format(\n",
    "        #     train_accuracies[num_epochs-1],\n",
    "        #     val_accuracies[num_epochs-1]\n",
    "        # ))\n",
    "\n",
    "    print('Finished Training')\n",
    "    elapsed_time = time.time() - start\n",
    "    print(\"Total time elapsed: {:.2f} seconds\".format(elapsed_time))\n",
    "\n",
    "    # make sure to plot the training curves\n",
    "    if plot:\n",
    "        plot_training_curve(train_losses, val_losses)\n",
    "    return train_loss, val_loss"
   ]
  },
  {
   "cell_type": "markdown",
   "metadata": {},
   "source": [
    "## Architecture"
   ]
  },
  {
   "cell_type": "code",
   "execution_count": 3,
   "metadata": {},
   "outputs": [
    {
     "name": "stdout",
     "output_type": "stream",
     "text": [
      "23077\n"
     ]
    }
   ],
   "source": [
    "class my_network(nn.Module):\n",
    "    def __init__(self, sz=[64, 100, 128], inp=54, out=1):\n",
    "        super(my_network, self).__init__()\n",
    "        self.layer_sizes = [inp] + sz + [out]\n",
    "        self.name = \"layer4linear\"\n",
    "\n",
    "        self.fc1 = nn.Linear(inp, sz[0])\n",
    "        self.dropout1 = nn.Dropout(0.5)\n",
    "\n",
    "        self.fc2 = nn.Linear(sz[0], sz[1])\n",
    "        self.dropout2 = nn.Dropout(0.5)\n",
    "\n",
    "        self.fc3 = nn.Linear(sz[1], sz[2])\n",
    "        self.dropout3 = nn.Dropout(0.5)\n",
    "\n",
    "        self.fc4 = nn.Linear(sz[2], out)\n",
    "\n",
    "    def forward(self, x):\n",
    "        x = F.relu(self.fc1(x))\n",
    "        x = self.dropout1(x)\n",
    "\n",
    "        x = F.relu(self.fc2(x))\n",
    "        x = self.dropout2(x)\n",
    "\n",
    "        x = F.relu(self.fc3(x))\n",
    "        x = self.dropout3(x)\n",
    "\n",
    "        x = self.fc4(x)\n",
    "        return x\n",
    "\n",
    "    def get_number_params(self):\n",
    "        num_params = 0\n",
    "        for i in range(len(self.layer_sizes)-1):\n",
    "            num_params += self.layer_sizes[i] * \\\n",
    "                self.layer_sizes[i+1] + self.layer_sizes[i+1]\n",
    "        return num_params\n",
    "\n",
    "test = my_network()\n",
    "print(test.get_number_params())"
   ]
  },
  {
   "cell_type": "markdown",
   "metadata": {},
   "source": [
    "## Loading Data"
   ]
  },
  {
   "cell_type": "code",
   "execution_count": 61,
   "metadata": {},
   "outputs": [
    {
     "name": "stdout",
     "output_type": "stream",
     "text": [
      "Retrieving: /Users/jonathanchoi/Desktop/GitHub Projects/crystal_sim/preprocessed_data/F225_cubic/F225_cubic_features_432.joblib\n",
      "Retrieving: /Users/jonathanchoi/Desktop/GitHub Projects/crystal_sim/preprocessed_data/F225_cubic/F225_cubic_regression_432.joblib\n",
      "Retrieving: /Users/jonathanchoi/Desktop/GitHub Projects/crystal_sim/preprocessed_data/F225_cubic/F225_cubic_labels_classification_space_432.joblib\n",
      "Retrieving: /Users/jonathanchoi/Desktop/GitHub Projects/crystal_sim/preprocessed_data/F225_cubic/F225_cubic_labels_classification_system_432.joblib\n",
      "Retrieving: /Users/jonathanchoi/Desktop/GitHub Projects/crystal_sim/preprocessed_data/F225_cubic/F225_cubic_material_ids432.joblib\n"
     ]
    }
   ],
   "source": [
    "my_path = '/Users/jonathanchoi/Desktop/GitHub Projects/crystal_sim/F225_cubic_key_path'\n",
    "my_loaded_data = pp.load_data(my_path)"
   ]
  },
  {
   "cell_type": "code",
   "execution_count": 62,
   "metadata": {},
   "outputs": [
    {
     "name": "stdout",
     "output_type": "stream",
     "text": [
      "<torch.utils.data.dataset.Subset object at 0x2a415d510>\n"
     ]
    }
   ],
   "source": [
    "no_angles_regression = []\n",
    "\n",
    "## Filter through side lengths only\n",
    "for element in my_loaded_data[1]:\n",
    "    no_angles_regression.append(element[:1])\n",
    "\n",
    "train_data, val_data, test_data = dataset_split(\n",
    "    my_loaded_data[0], no_angles_regression)"
   ]
  },
  {
   "cell_type": "markdown",
   "metadata": {},
   "source": [
    "### Sanity Check"
   ]
  },
  {
   "cell_type": "code",
   "execution_count": 63,
   "metadata": {},
   "outputs": [],
   "source": [
    "# for data in my_loaded_data:\n",
    "#     print(data[:1])"
   ]
  },
  {
   "cell_type": "code",
   "execution_count": 64,
   "metadata": {},
   "outputs": [],
   "source": [
    "\n",
    "# for i in range(0, 10): #len(my_loaded_data[0])):\n",
    "#     print(my_loaded_data[2][i])\n",
    "#     print(my_loaded_data[0][i])\n",
    "#     my_loaded_data[0][i].append(my_loaded_data[2][i])\n",
    "#     # print(my_loaded_data[0][i])\n"
   ]
  },
  {
   "cell_type": "code",
   "execution_count": 65,
   "metadata": {},
   "outputs": [],
   "source": [
    "# for i in range(0, 10): #len(my_loaded_data[0])):\n",
    "#     print(my_loaded_data[2][i])\n",
    "#     print(my_loaded_data[0][i])"
   ]
  },
  {
   "cell_type": "markdown",
   "metadata": {},
   "source": [
    "## Training"
   ]
  },
  {
   "cell_type": "code",
   "execution_count": 70,
   "metadata": {},
   "outputs": [
    {
     "name": "stdout",
     "output_type": "stream",
     "text": [
      "_______________________Epoch 40_______________________\n",
      "Train loss: 0.7848730691169438 | Validation loss: 1.3934259414672852 \n",
      "Finished Training\n",
      "Total time elapsed: 0.43 seconds\n"
     ]
    },
    {
     "data": {
      "image/png": "[encoded data removed]",
      "text/plain": [
       "<Figure size 640x480 with 1 Axes>"
      ]
     },
     "metadata": {},
     "output_type": "display_data"
    },
    {
     "data": {
      "text/plain": [
       "(0.7848730691169438, 1.3934259414672852)"
      ]
     },
     "execution_count": 70,
     "metadata": {},
     "output_type": "execute_result"
    }
   ],
   "source": [
    "model = my_network()\n",
    "train(model, train_data, val_data,\n",
    "      batch_size=16, learning_rate=0.0005, num_epochs=40, checkpoints=False)"
   ]
  },
  {
   "cell_type": "code",
   "execution_count": 71,
   "metadata": {},
   "outputs": [
    {
     "name": "stdout",
     "output_type": "stream",
     "text": [
      "Test Loss: 0.028226202523166485\n",
      "GT:  5.40    PD:  5.29    DIFF:  0.11    %DIFF:  2.04%\n",
      "GT:  8.28    PD:  8.85    DIFF: -0.57    %DIFF:  6.88%\n",
      "GT:  5.08    PD:  5.03    DIFF:  0.05    %DIFF:  0.98%\n",
      "GT:  5.68    PD:  5.53    DIFF:  0.15    %DIFF:  2.64%\n",
      "GT:  5.68    PD:  5.83    DIFF: -0.15    %DIFF:  2.64%\n",
      "GT:  9.01    PD:  7.59    DIFF:  1.42    %DIFF: 15.76%\n",
      "GT:  5.95    PD:  6.20    DIFF: -0.25    %DIFF:  4.20%\n",
      "GT:  8.41    PD:  6.15    DIFF:  2.26    %DIFF: 26.87%\n",
      "GT:  4.80    PD:  4.65    DIFF:  0.15    %DIFF:  3.12%\n",
      "GT:  8.67    PD:  8.31    DIFF:  0.36    %DIFF:  4.15%\n",
      "GT:  5.13    PD:  5.06    DIFF:  0.07    %DIFF:  1.36%\n",
      "GT:  5.38    PD:  5.64    DIFF: -0.26    %DIFF:  4.83%\n",
      "GT:  8.48    PD:  6.60    DIFF:  1.88    %DIFF: 22.17%\n",
      "GT:  4.28    PD:  4.27    DIFF:  0.01    %DIFF:  0.23%\n",
      "GT:  5.68    PD:  4.95    DIFF:  0.73    %DIFF: 12.85%\n",
      "GT:  4.13    PD:  4.19    DIFF: -0.06    %DIFF:  1.45%\n",
      "GT:  4.65    PD:  4.71    DIFF: -0.06    %DIFF:  1.29%\n",
      "GT:  7.96    PD:  7.48    DIFF:  0.48    %DIFF:  6.03%\n",
      "GT:  8.33    PD:  6.07    DIFF:  2.26    %DIFF: 27.13%\n",
      "GT:  7.51    PD:  7.65    DIFF: -0.14    %DIFF:  1.86%\n",
      "GT:  4.53    PD:  4.64    DIFF: -0.11    %DIFF:  2.43%\n",
      "GT:  5.66    PD:  5.52    DIFF:  0.14    %DIFF:  2.47%\n",
      "GT:  5.26    PD:  5.54    DIFF: -0.28    %DIFF:  5.32%\n",
      "GT:  5.64    PD:  4.82    DIFF:  0.82    %DIFF: 14.54%\n",
      "GT:  6.03    PD:  6.62    DIFF: -0.59    %DIFF:  9.78%\n",
      "GT:  5.16    PD:  5.09    DIFF:  0.07    %DIFF:  1.36%\n",
      "GT:  4.85    PD:  4.86    DIFF: -0.01    %DIFF:  0.21%\n",
      "GT:  5.44    PD:  4.87    DIFF:  0.57    %DIFF: 10.48%\n",
      "GT:  6.06    PD:  7.26    DIFF: -1.20    %DIFF: 19.80%\n",
      "GT:  5.13    PD:  4.69    DIFF:  0.44    %DIFF:  8.58%\n",
      "GT:  6.42    PD:  6.66    DIFF: -0.24    %DIFF:  3.74%\n",
      "GT:  8.06    PD:  7.16    DIFF:  0.90    %DIFF: 11.17%\n",
      "GT:  9.45    PD:  6.32    DIFF:  3.13    %DIFF: 33.12%\n",
      "GT:  5.80    PD:  6.43    DIFF: -0.63    %DIFF: 10.86%\n",
      "GT:  4.90    PD:  4.73    DIFF:  0.17    %DIFF:  3.47%\n",
      "GT:  5.16    PD:  5.07    DIFF:  0.09    %DIFF:  1.74%\n",
      "GT:  5.30    PD:  5.20    DIFF:  0.10    %DIFF:  1.89%\n",
      "GT:  6.69    PD:  7.14    DIFF: -0.45    %DIFF:  6.73%\n",
      "GT:  5.60    PD:  6.05    DIFF: -0.45    %DIFF:  8.04%\n",
      "GT:  6.66    PD:  6.54    DIFF:  0.12    %DIFF:  1.80%\n",
      "GT:  5.23    PD:  5.15    DIFF:  0.08    %DIFF:  1.53%\n",
      "GT:  4.48    PD:  4.45    DIFF:  0.03    %DIFF:  0.67%\n",
      "GT:  5.29    PD:  5.11    DIFF:  0.18    %DIFF:  3.40%\n",
      "GT:  6.03    PD:  5.74    DIFF:  0.29    %DIFF:  4.81%\n",
      "GT:  4.18    PD:  5.28    DIFF: -1.10    %DIFF: 26.32%\n",
      "GT:  4.31    PD:  4.30    DIFF:  0.01    %DIFF:  0.23%\n",
      "GT:  4.62    PD:  4.53    DIFF:  0.09    %DIFF:  1.95%\n",
      "GT:  4.62    PD:  4.53    DIFF:  0.09    %DIFF:  1.95%\n",
      "GT:  4.56    PD:  5.00    DIFF: -0.44    %DIFF:  9.65%\n",
      "GT:  5.77    PD:  7.68    DIFF: -1.91    %DIFF: 33.10%\n",
      "GT:  4.61    PD:  4.53    DIFF:  0.08    %DIFF:  1.74%\n",
      "GT:  4.43    PD:  4.38    DIFF:  0.05    %DIFF:  1.13%\n",
      "GT:  8.81    PD:  4.81    DIFF:  4.00    %DIFF: 45.40%\n",
      "GT:  5.51    PD:  4.92    DIFF:  0.59    %DIFF: 10.71%\n",
      "GT:  5.45    PD:  5.83    DIFF: -0.38    %DIFF:  6.97%\n",
      "GT:  4.64    PD:  4.60    DIFF:  0.04    %DIFF:  0.86%\n",
      "GT:  7.71    PD:  6.68    DIFF:  1.03    %DIFF: 13.36%\n",
      "GT:  4.79    PD:  4.65    DIFF:  0.14    %DIFF:  2.92%\n",
      "GT:  5.36    PD:  5.17    DIFF:  0.19    %DIFF:  3.54%\n",
      "GT:  4.24    PD:  4.25    DIFF: -0.01    %DIFF:  0.24%\n",
      "GT:  8.28    PD:  8.85    DIFF: -0.57    %DIFF:  6.88%\n",
      "GT:  8.69    PD:  7.98    DIFF:  0.71    %DIFF:  8.17%\n",
      "GT:  5.48    PD:  5.63    DIFF: -0.15    %DIFF:  2.74%\n",
      "GT:  7.34    PD:  6.63    DIFF:  0.71    %DIFF:  9.67%\n",
      "GT:  5.77    PD:  6.22    DIFF: -0.45    %DIFF:  7.80%\n",
      "GT:  7.51    PD:  7.65    DIFF: -0.14    %DIFF:  1.86%\n",
      "Percentage of inacceptable predictions: 24.0%\n",
      "Percentage of acceptable predictions: 76.0%\n"
     ]
    }
   ],
   "source": [
    "model.eval()\n",
    "\n",
    "test_loss = 0.0\n",
    "test_loader = torch.utils.data.DataLoader(\n",
    "    test_data, batch_size=32, shuffle=True)\n",
    "criterion = nn.MSELoss()\n",
    "\n",
    "gt_list = []\n",
    "preds_list = []\n",
    "\n",
    "with torch.no_grad():\n",
    "    for i, data in enumerate(test_loader, 0):\n",
    "        inputs, labels = data\n",
    "\n",
    "        outputs = model(inputs)\n",
    "        # print(labels, outputs)\n",
    "        gt_list.append(labels.tolist())\n",
    "        preds_list.append(outputs.tolist())\n",
    "\n",
    "        loss = criterion(outputs, labels)\n",
    "        test_loss += loss.item()\n",
    "test_loss /= len(test_data)\n",
    "print(f'Test Loss: {test_loss}')\n",
    "\n",
    "percent_diffs = []\n",
    "for i in range(len(gt_list)):\n",
    "    for j in range(len(gt_list[i])):\n",
    "        GT = round(gt_list[i][j][0], 2)\n",
    "        PD = round(preds_list[i][j][0], 2)\n",
    "        DIFF = round(GT - PD, 2)\n",
    "        PDIFF = round(abs(GT - PD) / GT * 100, 2)\n",
    "        percent_diffs.append(PDIFF)\n",
    "\n",
    "        print(f\"GT: {GT:>5.2f}    PD: {PD:>5.2f}    DIFF: {DIFF:>5.2f}    %DIFF: {PDIFF:>5.2f}%\")\n",
    "\n",
    "# Acceptable % difference <= 10%\n",
    "\n",
    "percent_diffs = np.array(percent_diffs)\n",
    "\n",
    "print(f\"Percentage of inacceptable predictions: {round(len(percent_diffs[percent_diffs > 10])/len(percent_diffs), 2) * 100}%\")\n",
    "print(f\"Percentage of acceptable predictions: {round(len(percent_diffs[percent_diffs <= 10])/len(percent_diffs), 2) * 100}%\")"
   ]
  },
  {
   "cell_type": "code",
   "execution_count": 76,
   "metadata": {},
   "outputs": [
    {
     "data": {
      "text/plain": [
       "<matplotlib.legend.Legend at 0x2a9758b50>"
      ]
     },
     "execution_count": 76,
     "metadata": {},
     "output_type": "execute_result"
    },
    {
     "data": {
      "image/png": "[encoded data removed]",
      "text/plain": [
       "<Figure size 640x480 with 1 Axes>"
      ]
     },
     "metadata": {},
     "output_type": "display_data"
    }
   ],
   "source": [
    "plt.title(\"Histogram of Percentage Differences Between G.Ts and Predictions\")\n",
    "plt.grid(zorder=0)\n",
    "plt.hist(percent_diffs, bins=40, zorder=5)\n",
    "plt.ylim([0,15])\n",
    "plt.vlines(x=10, ymin = 0, ymax = 30, color='k', linestyles='--', zorder=6, label=\"Threshold for Accuracy\")\n",
    "plt.xlabel(\"% Difference\")\n",
    "plt.ylabel(\"Frequency\")\n",
    "plt.legend(loc=\"best\")"
   ]
  }
 ],
 "metadata": {
  "kernelspec": {
   "display_name": "crystal_simulation",
   "language": "python",
   "name": "python3"
  },
  "language_info": {
   "codemirror_mode": {
    "name": "ipython",
    "version": 3
   },
   "file_extension": ".py",
   "mimetype": "text/x-python",
   "name": "python",
   "nbconvert_exporter": "python",
   "pygments_lexer": "ipython3",
   "version": "3.11.9"
  }
 },
 "nbformat": 4,
 "nbformat_minor": 2
}
